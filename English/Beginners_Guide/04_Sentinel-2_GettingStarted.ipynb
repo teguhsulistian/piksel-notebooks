{
 "cells": [
  {
   "cell_type": "markdown",
   "metadata": {},
   "source": [
    "## Getting Started with Sentinel-2  \n",
    "\n",
    "This example demonstrates a simple workflow for accessing and working with Sentinel-2 Level-2A data in the Open Data Cube. We define a study area, load selected spectral bands over a given time range, visualise the imagery, and export the results as a Cloud Optimised GeoTIFF.  \n",
    "\n",
    "\n",
    "## Import libraries\n",
    "\n",
    "We import the Python libraries required to connect to the datacube and define our study area geometry.  "
   ]
  },
  {
   "cell_type": "code",
   "execution_count": null,
   "metadata": {},
   "outputs": [],
   "source": [
    "from datacube import Datacube\n",
    "from odc.geo.geom import point"
   ]
  },
  {
   "cell_type": "markdown",
   "metadata": {},
   "source": [
    "## Configure the environment\n",
    "\n",
    "We create a `Datacube` instance, which will be used to query and load Sentinel-2 data.  "
   ]
  },
  {
   "cell_type": "code",
   "execution_count": null,
   "metadata": {},
   "outputs": [],
   "source": [
    "dc = Datacube()"
   ]
  },
  {
   "cell_type": "markdown",
   "metadata": {},
   "source": [
    "## Pick a study area\n",
    "\n",
    "We define the location of interest using latitude and longitude coordinates, create a bounding box around the point, and set parameters for image visualisation.  "
   ]
  },
  {
   "cell_type": "code",
   "execution_count": null,
   "metadata": {},
   "outputs": [],
   "source": [
    "# Find a location you're interested in on Google Maps and copy the coordinates\n",
    "# by right-clicking on the map and clicking the coordinates\n",
    "\n",
    "# These coords are in the order Y then X, or Latitude then Longitude\n",
    "coords = -6.594, 106.793  # Bogor\n",
    "aoi_point = point(coords[1], coords[0], crs=\"EPSG:4326\")\n",
    "bbox = aoi_point.buffer(0.1).boundingbox\n",
    "\n",
    "landsat_stretch = dict(vmin=1000, vmax=4000)\n",
    "\n",
    "datetime = (\"2025-05-01\", \"2025-05-14\")\n",
    "\n",
    "# Preview the area\n",
    "bbox.explore(zoom=8)"
   ]
  },
  {
   "cell_type": "markdown",
   "metadata": {},
   "source": [
    "## Load data\n",
    "\n",
    "This uses the Datacube library to handle loading of the actual data. The `dask_chunks` argument instructs the tool to use Dask\n",
    "to lazy-load the data.\n",
    "\n",
    "We use `dc.load()` to retrieve Sentinel-2 Level-2A surface reflectance data for our selected area and time range. The `measurements` parameter limits the load to RGB bands, and other parameters define the coordinate reference system, spatial resolution, and data loading behaviour. "
   ]
  },
  {
   "cell_type": "code",
   "execution_count": null,
   "metadata": {},
   "outputs": [],
   "source": [
    "data = dc.load(\n",
    "    product=\"s2_l2a\",\n",
    "    measurements=[\"red\", \"green\", \"blue\"],\n",
    "    output_crs=\"EPSG:32750\",\n",
    "    resolution=10,\n",
    "    time=datetime,\n",
    "    longitude=(bbox.left, bbox.right),\n",
    "    latitude=(bbox.bottom, bbox.top),\n",
    "    dask_chunks={},\n",
    "    group_by=\"solar_day\",\n",
    ")\n",
    "\n",
    "data"
   ]
  },
  {
   "cell_type": "markdown",
   "metadata": {},
   "source": [
    "## Visualise data\n",
    "\n",
    "This step uses `matplotlib` to view data as a static image. It takes a longer time to\n",
    "run than previous steps, because it's actually loading the data to prepare the images.\n",
    "\n",
    "The `to_array()` function is a trick used to be able to visualise the data as a\n",
    "red, green, blue \"true colour\" image."
   ]
  },
  {
   "cell_type": "code",
   "execution_count": null,
   "metadata": {},
   "outputs": [],
   "source": [
    "data.to_array().plot.imshow(col=\"time\", col_wrap=2, size=6, vmin=0, vmax=3000)"
   ]
  },
  {
   "cell_type": "markdown",
   "metadata": {},
   "source": [
    "### Interactive map\n",
    "\n",
    "This step uses another `odc` tool to visualise the data on a map.\n",
    "We select the clearest image from the dataset, convert it to an RGBA format for visualisation, and display it in an interactive map using the `odc.explore()` tool. "
   ]
  },
  {
   "cell_type": "code",
   "execution_count": null,
   "metadata": {},
   "outputs": [],
   "source": [
    "best = data.sel(time=\"2025-05-05\").squeeze()\n",
    "visualisation = best.odc.to_rgba(vmin=0, vmax=3000)\n",
    "\n",
    "visualisation.odc.explore()"
   ]
  },
  {
   "cell_type": "markdown",
   "metadata": {},
   "source": [
    "## Export data\n",
    "\n",
    "We export the processed imagery to disk as a Cloud Optimised GeoTIFF (`.tif`) using an `odc` tool for external use."
   ]
  },
  {
   "cell_type": "code",
   "execution_count": null,
   "metadata": {},
   "outputs": [],
   "source": [
    "visualisation.odc.write_cog(\"sentinel2_example.tif\", overwrite=True)"
   ]
  }
 ],
 "metadata": {
  "kernelspec": {
   "display_name": "Python 3",
   "language": "python",
   "name": "python3"
  },
  "language_info": {
   "codemirror_mode": {
    "name": "ipython",
    "version": 3
   },
   "file_extension": ".py",
   "mimetype": "text/x-python",
   "name": "python",
   "nbconvert_exporter": "python",
   "pygments_lexer": "ipython3",
   "version": "3.11.11"
  }
 },
 "nbformat": 4,
 "nbformat_minor": 4
}
