{
 "cells": [
  {
   "cell_type": "markdown",
   "id": "78c0f012-3e8c-4f36-871d-d019c9e23ee6",
   "metadata": {},
   "source": [
    "## Getting Started with OpenDataCube\n",
    "A \"datacube\" is a digital information architecture that specialises in hosting and cataloguing spatial information.\n",
    "Piksel is an Indonesian implementation of the [Open Data Cube](https://www.opendatacube.org/) infrastructure, and specialises in storing remotely sensed data, particularly from Earth Observation satellites such as [Landsat](https://landsat.gsfc.nasa.gov/) and [Sentinel-2](https://www.copernicus.eu/en/about-copernicus/infrastructure/discover-our-satellites).\n",
    "\n",
    "The Piksel datacube currently contains analysis-ready satellite data, and in the future will also contain derivative data \"products\".\n",
    "These data datasets and products are often composed of a range of \"measurements\" such as the suite of remote sensing band values or statistical product summaries. Before running a query to load data from the datacube, it is useful to know what it contains.\n",
    "\n",
    "This notebook demonstrates several straightforward ways to inspect the product and measurement contents of a datacube.\n",
    "\n",
    "We acknowledge and give credit to the [Digital Earth Australia Knowledge Hub](https://knowledge.dea.ga.gov.au/notebooks/README/) for providing the content that informed the development of this notebook.\n",
    "\n",
    "***"
   ]
  },
  {
   "cell_type": "markdown",
   "id": "d18be20e-f2ef-4eb4-b954-cd3070e88040",
   "metadata": {},
   "source": [
    "## Description\n",
    "This notebook demonstrates how to connect to a datacube and interrogate the available products and measurements stored within.\n",
    "Topics covered include:\n",
    "\n",
    "* How to connect to a datacube\n",
    "* How to list all the products\n",
    "* How to list all the product measurements\n",
    "* How to interactively visualise data in the datacube \n",
    "\n",
    "***"
   ]
  },
  {
   "cell_type": "code",
   "execution_count": null,
   "id": "505075bd-7673-4be1-8c17-1b0ddde62804",
   "metadata": {},
   "outputs": [],
   "source": [
    "# Import required packages\n",
    "import pandas as pd\n",
    "from datacube import Datacube\n",
    "\n",
    "# Set some configurations for displaying tables nicely\n",
    "pd.set_option(\"display.max_colwidth\", 200)\n",
    "pd.set_option(\"display.max_rows\", None)"
   ]
  },
  {
   "cell_type": "code",
   "execution_count": null,
   "id": "da134f3f-c32f-40dd-8d47-e46ee883459f",
   "metadata": {},
   "outputs": [],
   "source": [
    "# Connect to the Piksel datacube. We will then use the variable 'dc' to interact with the datacube throughout the notebook.\n",
    "dc = Datacube()"
   ]
  },
  {
   "cell_type": "markdown",
   "id": "a7ff53ab-88db-48b8-acc9-337136e34a52",
   "metadata": {},
   "source": [
    "## Product Discovery\n",
    "\n",
    "Once a datacube instance has been created, users can explore the products and measurements stored within.\n",
    "\n",
    "The following cell lists all products that are currently available in the Piksel datacube by using the `dc.list_products()` function. \n",
    "\n",
    "Products listed under **name** in the following table represent the product options available when querying the datacube. \n",
    "The table below provides some useful information about each product, including a brief product **description**, the data's **license**, and the product's default **crs** (coordinate reference system) and **resolution** if applicable."
   ]
  },
  {
   "cell_type": "code",
   "execution_count": null,
   "id": "14fe8015-c67a-49e1-be15-11357bc89a0c",
   "metadata": {},
   "outputs": [],
   "source": [
    "# List Products by using the dc.list_products() function. All products that have been indexed into the Piksel datacube.\n",
    "dc.list_products()"
   ]
  },
  {
   "cell_type": "markdown",
   "id": "184bcea5-5fe7-47ed-869b-84bc86cfac0c",
   "metadata": {},
   "source": [
    "## List measurements\n",
    "\n",
    "Most products are associated with a range of available measurements.\n",
    "These can be individual satellite bands (e.g. Landsat's near-infrared band) or statistical product summaries.\n",
    "\n",
    "The `dc.list_measurements()` function can be used to interrogate the measurements associated with a given product (specified by the **name** column from the table above).\n",
    "For example, `s2_l2a` refers to the Sentinel-2 Level 2a product.\n",
    "\n",
    "The table below includes a range of technical information about each band in the `s2_l2a` dataset, including any **aliases** which can be used to load the data, the data type or **dtype**, any **flags_definition** that are associated with the measurement (this information is used for tasks like cloud masking), and the measurement's **nodata** value.\n",
    "\n",
    "Change the `product` name below and re-run the following cell to explore available measurements associated with other products."
   ]
  },
  {
   "cell_type": "code",
   "execution_count": null,
   "id": "28627d9f-e51a-4ed8-b680-ea81f8036a41",
   "metadata": {},
   "outputs": [],
   "source": [
    "# We see in the table of products that we have a Sentinel-2 product named 's2_l2a'. \n",
    "# Let's use the list_measurements() function to explore what measurements are in that product.\n",
    "#In this case, it is spectral bands (i.e., green, blue, etc.) and statistical product summaries. \n",
    "#Stretch goal: Change the product variable to 'ls9_c2l2_sr' to view the measurements of that product\n",
    "\n",
    "product = \"s2_l2a\"\n",
    "\n",
    "measurements = dc.list_measurements()\n",
    "measurements.loc[product]"
   ]
  },
  {
   "cell_type": "markdown",
   "id": "5f436b4f-0092-4d19-a06b-2a502112589a",
   "metadata": {},
   "source": [
    "## Dataset Searching & Querying"
   ]
  },
  {
   "cell_type": "markdown",
   "id": "1c1b8573-1764-491c-83d4-183018ff8612",
   "metadata": {},
   "source": [
    "### Finding Dataset\n",
    "\n",
    "We can use the `find_datasets` function to search the datacube for all datasets that match our search query. We can then store the results of our search to the `datasets` variable."
   ]
  },
  {
   "cell_type": "code",
   "execution_count": null,
   "id": "ef5fb774-d895-4877-a09b-c50030d44e0a",
   "metadata": {},
   "outputs": [],
   "source": [
    "datasets = dc.find_datasets(product=\"s2_l2a\", limit=1)\n",
    "datasets"
   ]
  },
  {
   "cell_type": "markdown",
   "id": "c8a6a15b-f070-4b3a-b71f-06e82c7e93c8",
   "metadata": {},
   "source": [
    "We can also search for datasets within a specific spatial extent or time period. To do this, we supply a spatiotemporal query (i.e. a range of x- and y-coordinates defining the spatial area to load, and a range of times).\n",
    "\n",
    "`dc.find_datasets()` will then return a subset of datasets that match this query:"
   ]
  },
  {
   "cell_type": "code",
   "execution_count": null,
   "id": "e57b7b29-4640-4a87-8b0a-78fbcae8c503",
   "metadata": {},
   "outputs": [],
   "source": [
    "#Create a variable 'datasets' and set it to the results of the find_datasets function according to the\n",
    "# below x-y coordinate ranges  in decimal degrees and time-period in YYYY-MM-DD dormat\n",
    "x_range = (106.566, 106.644)\n",
    "y_range = (-5.842, -5.875)\n",
    "time_range = (\"2025-06-01\", \"2025-06-30\")\n",
    "\n",
    "datasets = dc.find_datasets(\n",
    "    product=\"s2_l2a\", x=x_range, y=y_range, time=time_range\n",
    ")\n",
    "\n",
    "print(f\"Found {len(datasets)} datasets\")\n",
    "\n",
    "# Select the first dataset we have returned from our query, and print its AWS URL\n",
    "dataset = datasets[0]\n",
    "print(f\"Here's the STAC URL for the first dataset: {dataset.uri}\")"
   ]
  },
  {
   "cell_type": "markdown",
   "id": "fd92c63b-ea78-4814-b5a6-2461f4c66eaa",
   "metadata": {},
   "source": [
    "## Inspecting dataset  \n",
    "\n",
    "Once a dataset has been loaded from the datacube, we can explore its properties to better understand the data it contains.  \n",
    "The `dataset.measurements` attribute lists all available measurements for the dataset, similar to the `dc.list_measurements()` output but specific to this individual dataset.  \n",
    "\n",
    "Other attributes, such as the dataset’s **coordinate reference system** (`dataset.crs`) and various metadata fields accessible via `dataset.metadata`, provide important contextual information. For example, `dataset.metadata.cloud_cover` reports the percentage of the scene affected by cloud.  \n",
    "\n",
    "By iterating through a collection of datasets, we can compare cloud cover values and identify the dataset with the least cloud contamination. This is useful for selecting the clearest available imagery for further analysis.  "
   ]
  },
  {
   "cell_type": "code",
   "execution_count": null,
   "id": "2002188c-dc7d-47de-965c-6c2ca372d908",
   "metadata": {},
   "outputs": [],
   "source": [
    "dataset.measurements"
   ]
  },
  {
   "cell_type": "code",
   "execution_count": null,
   "id": "d109243b-aa80-4dd1-ba89-d450d42124af",
   "metadata": {},
   "outputs": [],
   "source": [
    "print(f\"The CRS of the dataset is: {dataset.crs}\")"
   ]
  },
  {
   "cell_type": "code",
   "execution_count": null,
   "id": "60d0e494-a34d-4cb5-b79f-1c2f28af8eba",
   "metadata": {},
   "outputs": [],
   "source": [
    "# Attributes and methods that are available\n",
    "dir(dataset.metadata)"
   ]
  },
  {
   "cell_type": "code",
   "execution_count": null,
   "id": "ddfa4a50-d30d-42f4-8c13-3841c62f7c1f",
   "metadata": {},
   "outputs": [],
   "source": [
    "print(f\"Cloud cover for the first dataset is: {dataset.metadata.cloud_cover:.3f}%\")"
   ]
  },
  {
   "cell_type": "code",
   "execution_count": null,
   "id": "b1983ff1",
   "metadata": {},
   "outputs": [],
   "source": [
    "# Let's find the dataset with the least cloud cover, and store it in the `least_cloudy_datasets` variable to explore more later\n",
    "least = 101\n",
    "least_cloudy_dataset = None\n",
    "for ds in datasets:\n",
    "    # print(f\"Cloud cover for {ds.id} is: {ds.metadata.cloud_cover:.3f}%\")\n",
    "    if ds.metadata.cloud_cover < least:\n",
    "        least = ds.metadata.cloud_cover\n",
    "        least_cloudy_dataset = ds\n",
    "print(\n",
    "    f\"The dataset with the least cloud cover is: {least_cloudy_dataset.id} with {least:.3f}%\"\n",
    ")"
   ]
  },
  {
   "cell_type": "markdown",
   "id": "d36bc34d-a958-45d8-92cd-82c1ff175692",
   "metadata": {},
   "source": [
    "## Load data  \n",
    "\n",
    "Once we have identified the datasets we want to work with, we can load them directly using the `dc.load()` function.  \n",
    "Here, we specify the `datasets` parameter to load only our selected dataset (in this case, the least cloudy one) and limit the measurements to the visible spectrum bands — `\"red\"`, `\"blue\"`, and `\"green\"`. We also set the `output_crs` and `resolution` to match the source dataset.  \n",
    "\n",
    "The result is returned as an `xarray.Dataset`, which provides a structured way to store and interact with multi-dimensional data. We will use xarray datasets extensively throughout this workshop to analyse satellite data.\n",
    "\n",
    "We can quickly visualise the loaded data using the `.plot.imshow()` method to display the RGB bands as a static image, or interactively explore the imagery in a map viewer using `data.odc.explore()`.  "
   ]
  },
  {
   "cell_type": "code",
   "execution_count": null,
   "id": "a56d92f1-7ace-4c66-8be2-a2202bf07649",
   "metadata": {},
   "outputs": [],
   "source": [
    "print(\"Available measurements:\")\n",
    "for meas in dataset.measurements.keys():\n",
    "    print(meas)"
   ]
  },
  {
   "cell_type": "code",
   "execution_count": null,
   "id": "3c3b8992-903b-44de-8bff-a797da0fc47b",
   "metadata": {},
   "outputs": [],
   "source": [
    "data = dc.load(\n",
    "    datasets=[least_cloudy_dataset],\n",
    "    measurements=[\"red\", \"blue\", \"green\"],\n",
    "    output_crs=least_cloudy_dataset.crs,\n",
    "    resolution=20,\n",
    "    # chunks={\"x\": 512, \"y\": 512},  # Uncomment to use Dask for lazy loading\n",
    ").squeeze()  # Remove singleton dimensions, which in this case is the time dimension\n",
    "data"
   ]
  },
  {
   "cell_type": "markdown",
   "id": "e7a5825b-c385-471f-b6d9-b1a71702271c",
   "metadata": {},
   "source": [
    "We can see that `dc.load` has returned an `xarray.Dataset` containing data from our two input datasets. \n",
    "\n",
    "> This `xarray.Dataset` includes:  \n",
    "> **Dimensions**  \n",
    "> This header identifies the number of timesteps returned (time: 2) as well as the number of resulting pixels in the `x` and `y` directions.\n",
    "> \n",
    "> **Coordinates**  \n",
    "> - time identifies the time attributed to each returned timestep.\n",
    "> - x and y provide coordinates for each pixel within the returned data.  \n",
    "> - spatial_ref provides information about the spatial grid used to load the data\n",
    "> \n",
    ">**Data variables**  \n",
    "> These are the measurements available for the loaded product.\n",
    "> For every timestep (time) returned by the query, the measured value at each pixel (y, x) is returned as an array for each measurement.\n",
    "> Each data variable is itself an `xarray.DataArray` object.\n",
    "> \n",
    "> **Attributes**  \n",
    "> Other important metadata or attributes for the loaded data"
   ]
  },
  {
   "cell_type": "markdown",
   "id": "2e57922a-e81d-4f83-a1b1-96138c4e952e",
   "metadata": {},
   "source": [
    "We can also inspect our loaded data by plotting it:"
   ]
  },
  {
   "cell_type": "code",
   "execution_count": null,
   "id": "df08d575-4fb2-4f08-b514-8d250f32543a",
   "metadata": {},
   "outputs": [],
   "source": [
    "# Plot the data. If we set it up as a 3 band array, we\n",
    "# can use the `plot.imshow()` function to visualize it as\n",
    "# a true color image.\n",
    "bands = [\"red\", \"green\", \"blue\"]\n",
    "data[bands].to_array().plot.imshow(robust=True)"
   ]
  },
  {
   "cell_type": "code",
   "execution_count": null,
   "id": "a005d9aa",
   "metadata": {},
   "outputs": [],
   "source": [
    "# Or plot an interactive map\n",
    "data.odc.explore(bands=bands, vmin=0, vmax=3000)"
   ]
  }
 ],
 "metadata": {
  "kernelspec": {
   "display_name": "Python 3",
   "language": "python",
   "name": "python3"
  },
  "language_info": {
   "codemirror_mode": {
    "name": "ipython",
    "version": 3
   },
   "file_extension": ".py",
   "mimetype": "text/x-python",
   "name": "python",
   "nbconvert_exporter": "python",
   "pygments_lexer": "ipython3",
   "version": "3.11.11"
  }
 },
 "nbformat": 4,
 "nbformat_minor": 5
}
