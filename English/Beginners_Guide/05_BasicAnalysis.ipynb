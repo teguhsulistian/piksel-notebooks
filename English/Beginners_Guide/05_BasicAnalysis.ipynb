{
 "cells": [
  {
   "cell_type": "markdown",
   "metadata": {},
   "source": [
    "# Performing a basic analysis\n",
    "\n",
    "Note that this notebook was inspired by [DE Africa's example](https://github.com/digitalearthafrica/deafrica-sandbox-notebooks/blob/main/Beginners_guide/05_Basic_analysis.ipynb)."
   ]
  },
  {
   "cell_type": "markdown",
   "metadata": {},
   "source": [
    "## Background\n",
    "To understand the world around us, it's important to combine the key steps of loading, visualising, analysing, and interpreting satellite data.\n",
    "To perform an analysis, we begin with a question and use these steps to reach an answer."
   ]
  },
  {
   "cell_type": "markdown",
   "metadata": {},
   "source": [
    "## Description\n",
    "This notebook demonstrates how to conduct a basic analysis with using Sentinel-2 and the Open Data Cube.\n",
    "\n",
    "It will combine many of the steps that have been covered in the other beginner's notebooks.\n",
    "\n",
    "In this notebook, the analysis question is _\"How is the health of vegetation changing over time in a given area?\"_\n",
    "\n",
    "This could be related to a number of broader questions: \n",
    "\n",
    "* What is the effect of a new land use practice on a field of crops?\n",
    "* How has a patch of forest changed after a fire? \n",
    "* How does proximity to water affect vegetation throughout the year?\n",
    "\n",
    "For this notebook, the analysis question will be kept simple, without much real-world context. \n",
    "For more examples of notebooks that demonstrate how to use DE Africa to answer specific analysis questions, see the notebooks in the \"Real world examples\" folder. \n",
    "\n",
    "Topics covered in this notebook include:\n",
    "\n",
    "1. Choosing a study area.\n",
    "2. Loading data for the study area.\n",
    "3. Plotting the chosen data and exploring how it changes with time.\n",
    "4. Calculating a measure of vegetation health from the loaded data.\n",
    "5. Exporting the data for further analysis.\n",
    "\n",
    "***"
   ]
  },
  {
   "cell_type": "markdown",
   "metadata": {},
   "source": [
    "## Getting started\n",
    "To run this introduction to performing basic analysis with DE Africa data and the datacube, run all the cells in the notebook starting with the \"Load packages\" cell. For help with running notebook cells, refer back to the [Jupyter Notebooks notebook](01_Jupyter_notebooks.ipynb). "
   ]
  },
  {
   "cell_type": "markdown",
   "metadata": {},
   "source": [
    "### Load packages\n",
    "The cell below imports Python packages that are used for the analysis.\n",
    "The first command is `%matplotlib inline`, which ensures figures plot correctly in the Jupyter notebook.\n",
    "The following commands import various functionality: \n",
    "\n",
    "* `deafrica_tools` contains helpful support functions, including those in the `deafrica_plotting` module which we are using in this notebook. \n",
    "* `datacube` provides the ability to query and load data.\n",
    "* `matplotlib` provides the ability to format and manipulate plots."
   ]
  },
  {
   "cell_type": "code",
   "execution_count": null,
   "metadata": {},
   "outputs": [],
   "source": [
    "import datacube\n",
    "import matplotlib.pyplot as plt\n",
    "from odc.geo.geom import BoundingBox\n",
    "from odc.stac import configure_s3_access"
   ]
  },
  {
   "cell_type": "markdown",
   "metadata": {},
   "source": [
    "### Connect to the datacube\n",
    "The next step is to connect to the datacube database.\n",
    "The resulting `dc` datacube object can then be used to load data.\n",
    "The `app` parameter is a unique name used to identify the notebook that does not have any effect on the analysis."
   ]
  },
  {
   "cell_type": "code",
   "execution_count": null,
   "metadata": {},
   "outputs": [],
   "source": [
    "dc = datacube.Datacube()"
   ]
  },
  {
   "cell_type": "markdown",
   "metadata": {},
   "source": [
    "## Step 1: Choose a study area"
   ]
  },
  {
   "cell_type": "markdown",
   "metadata": {},
   "source": [
    "When working with the Open Data Cube, it's important to load only as much data as needed.\n",
    "This helps keep an analysis running quickly and avoids the notebook crashing due to insufficient memory.\n",
    "\n",
    "One way to set the study area is to set a central latitude and longitude coordinate pair, `(central_lat, central_lon)`, then specify how many degrees to include either side of the central latitude and longitude, known as the `buffer`."
   ]
  },
  {
   "cell_type": "markdown",
   "metadata": {
    "jp-MarkdownHeadingCollapsed": true
   },
   "source": [
    "### Location\n",
    "Below, we have set the study area covering an agricultural area in Java, Indonesia.\n",
    "To load a different area, you can provide your own central_lat and central_lon values.\n",
    "One way to source these is to Google a location, or click directly on the map in [Google Maps](https://www.google.com/maps/place/21%C2%B007'25.4%22N+11%C2%B023'51.1%22W/@21.0925851,-11.555448,82035m/data=!3m1!1e3!4m14!1m7!3m6!1s0x10a06c0a948cf5d5:0x108270c99e90f0b3!2sAfrica!3b1!8m2!3d-8.783195!4d34.508523!3m5!1s0x0:0x0!7e2!8m2!3d21.1237127!4d-11.3975263).\n",
    "Other options are:\n",
    "\n",
    "\n",
    "\n",
    "\n",
    "\n",
    "\n",
    "\n",
    "\n",
    "\n",
    "\n",
    "\n",
    "\n",
    "\n",
    "North Sumatra Plantation Region, Indonesia\n",
    "\n",
    "central_lat = 3.6\n",
    "central_lon = 98.7\n",
    "\n",
    "Note: If you change the study area latitude and longitude, you'll need to re-run all of the cells after to apply that change to the whole analysis. These coordinates are optimized for Indonesian agricultural regions covered by this datacube instance.Other options are:\n",
    "\n",
    "* **Bogor Agricultural Area, Indonesia**\n",
    "```\n",
    "central_lat = -6.594\n",
    "central_lon = 106.793\n",
    "```\n",
    "\n",
    "\n",
    "* **Central Java Rice Belt, Indonesia**\n",
    "```\n",
    "central_lat = -7.8\n",
    "central_lon = 110.4\n",
    "```\n",
    "\n",
    "* **East Java Agricultural Zone, Indonesia**\n",
    "```\n",
    "central_lat = -7.9\n",
    "central_lon = 112.6\n",
    "```\n",
    "> **Note**: If you change the study area latitude and longitude, you'll need to re-run all of the cells after to apply that change to the whole analysis."
   ]
  },
  {
   "cell_type": "markdown",
   "metadata": {},
   "source": [
    "### Buffer\n",
    "Feel free to experiment with the `buffer` value to load different sized areas.\n",
    "We recommend that you keep the `buffer` relatively small, no higher than `buffer=0.1` degrees.\n",
    "This will help keep the loading times reasonable and prevent the notebook from crashing.\n",
    "\n",
    "> **Extension**: Can you modify the code to use a different `buffer` value for latitude and longitude? \n",
    "\n",
    "> *Hint*: You may want two variables, `buffer_lat` and `buffer_lon` that you can set independently. You'll then need to update the definitions of `study_area_lat` and `study_area_lon` with their corresponding buffer value."
   ]
  },
  {
   "cell_type": "code",
   "execution_count": null,
   "metadata": {},
   "outputs": [],
   "source": [
    "# Set the central latitude and longitude\n",
    "central_lat = -6.53333\n",
    "central_lon = 105.72639\n",
    "\n",
    "# Set the buffer to load around the central coordinates\n",
    "buffer = 0.03\n",
    "\n",
    "# Compute the bounding box for the study area\n",
    "study_area_lat = (central_lat - buffer, central_lat + buffer)\n",
    "study_area_lon = (central_lon - buffer, central_lon + buffer)"
   ]
  },
  {
   "cell_type": "markdown",
   "metadata": {},
   "source": [
    "After choosing the study area, it can be useful to visualise it on an interactive map.\n",
    "This provides a sense of scale.\n",
    "> **Note**: The interactive map also returns latitude and longitude values when clicked.\n",
    "You can use this to generate new latitude and longitude values to try without leaving the notebook."
   ]
  },
  {
   "cell_type": "code",
   "execution_count": null,
   "metadata": {},
   "outputs": [],
   "source": [
    "aoi = BoundingBox(\n",
    "    left=study_area_lon[0],\n",
    "    bottom=study_area_lat[0],\n",
    "    right=study_area_lon[1],\n",
    "    top=study_area_lat[1]\n",
    ")\n",
    "aoi.explore()"
   ]
  },
  {
   "cell_type": "markdown",
   "metadata": {},
   "source": [
    "## Step 2: Loading data\n",
    "\n",
    "When asking analysis questions about vegetation, it's useful to work with optical imagery, such as Sentinel-2 or Landsat.\n",
    "The Sentinel-2 satellites have 10 metre resolution and go back to 2017. \n",
    "\n",
    "The code below sets up the required information to load the data."
   ]
  },
  {
   "cell_type": "code",
   "execution_count": null,
   "metadata": {},
   "outputs": [],
   "source": [
    "# Set the data source - s2_l2a corresponds to Sentinel-2A\n",
    "set_product = \"s2_l2a\"\n",
    "\n",
    "# Set the date range to load data over\n",
    "set_time = (\"2025-01-01\", \"2025-03-31\")\n",
    "\n",
    "# Set the measurements/bands to load\n",
    "# For this analysis, we'll load the red, green, blue and near-infrared bands\n",
    "set_measurements = [\n",
    "    \"red\",\n",
    "    \"blue\",\n",
    "    \"green\",\n",
    "    \"nir\"\n",
    "]\n",
    "\n",
    "# Set the coordinate reference system and output resolution\n",
    "set_crs = 'EPSG:6933'\n",
    "set_resolution = 10"
   ]
  },
  {
   "cell_type": "markdown",
   "metadata": {},
   "source": [
    "After setting all of the necessary parameters, the `dc.load()` command is used to load the data:"
   ]
  },
  {
   "cell_type": "code",
   "execution_count": null,
   "metadata": {},
   "outputs": [],
   "source": [
    "configure_s3_access(aws_unsigned=True)\n",
    "\n",
    "# This will load the data into a DataArray\n",
    "# It may take a while to run...\n",
    "dataset = dc.load(\n",
    "    product=set_product,\n",
    "    x=study_area_lon,\n",
    "    y=study_area_lat,\n",
    "    time=set_time,\n",
    "    measurements=set_measurements,\n",
    "    output_crs=set_crs,\n",
    "    resolution=set_resolution,\n",
    "    group_by='solar_day',\n",
    "    dask_chunks={\"time\": 1, \"x\": 512, \"y\": 512},\n",
    "    driver=\"rio\"\n",
    ")"
   ]
  },
  {
   "cell_type": "code",
   "execution_count": null,
   "metadata": {},
   "outputs": [],
   "source": [
    "num_images = len(dataset)\n",
    "print(f\"There are {num_images} images available for {set_product}.\")"
   ]
  },
  {
   "cell_type": "markdown",
   "metadata": {},
   "source": [
    "Following the load step, printing the `dataset` object will give you insight into all of the data that was loaded.\n",
    "Do this by running the next cell.\n",
    "\n",
    "There's a lot of information to unpack, which is represented by the following aspects of the data:\n",
    "- `Dimensions`: the names of data dimensions, frequently `time`, `x` and `y`, and number of entries in each\n",
    "- `Coordinates`: the coordinate values for each point in the data cube\n",
    "- `Data variables`: the observations loaded, frequently different spectral bands from a satellite\n",
    "- `Attributes`: any useful information for the data, such as the `crs` (coordinate reference system)"
   ]
  },
  {
   "cell_type": "code",
   "execution_count": null,
   "metadata": {},
   "outputs": [],
   "source": [
    "dataset"
   ]
  },
  {
   "cell_type": "markdown",
   "metadata": {},
   "source": [
    "## Step 3: Plotting data\n",
    "\n",
    "After loading the data, it is useful to view it to understand the resolution, which observations are impacted by cloud cover, and whether there are any obvious differences between time steps.\n",
    "\n",
    "See if you can plot multiple images at the same time? This requires two changes: \n",
    "\n",
    "1. Use a list of values as an argument to the index select function `isel`, i.e., `isel(time=[0, 1])`\n",
    "2. Pass in some arguments to the `imshow` function, `col` and `col_wrap`. You can [read the documentation](https://docs.xarray.dev/en/stable/generated/xarray.DataArray.plot.html) to find out more."
   ]
  },
  {
   "cell_type": "code",
   "execution_count": null,
   "metadata": {},
   "outputs": [],
   "source": [
    "# Set the time step to view\n",
    "time_step = 1  # Change this to view different time steps\n",
    "\n",
    "# Set the band combination to plot\n",
    "bands = [\"red\", \"green\", \"blue\"]\n",
    "\n",
    "# Generate the image by running the rgb function\n",
    "one_time_step = dataset.isel(time=time_step)\n",
    "one_time_step[bands].to_array().plot.imshow(\n",
    "    size=8,\n",
    "    robust=True\n",
    ")\n",
    "# rgb(dataset, bands=bands, index=time_step, size=8)\n",
    "\n",
    "# Format the time stamp for use as the plot title\n",
    "time_string = str(dataset.time.isel(time=time_step).values).split('.')[0]  \n",
    "\n",
    "# Set the title and axis labels\n",
    "ax = plt.gca()\n",
    "ax.set_title(f\"Timestep {time_string}\", fontweight='bold', fontsize=16)\n",
    "ax.set_xlabel('Easting (m)', fontweight='bold')\n",
    "ax.set_ylabel('Northing (m)', fontweight='bold')\n",
    "\n",
    "# Display the plot\n",
    "plt.show()"
   ]
  },
  {
   "cell_type": "markdown",
   "metadata": {},
   "source": [
    "### Visualise on a web map\n",
    "\n",
    "We have another way of viewing the images, by creating a simple web map."
   ]
  },
  {
   "cell_type": "code",
   "execution_count": null,
   "metadata": {},
   "outputs": [],
   "source": [
    "# We need to set vmin and vmax to ensure the image is displayed correctly\n",
    "# The values here are set based on the expected range of pixel values for the Sentinel-2 RGB bands\n",
    "\n",
    "one_time_step.odc.explore(vmin=0, vmax=3000)"
   ]
  },
  {
   "cell_type": "markdown",
   "metadata": {},
   "source": [
    "## Find a cloud-free image\n",
    "\n",
    "Keep going through the images until you find one that is relatively free of clouds, we'll use that later."
   ]
  },
  {
   "cell_type": "markdown",
   "metadata": {},
   "source": [
    "## Step 4: Calculate vegetation health\n",
    "\n",
    "While it's possible to identify vegetation in the RGB image, it can be helpful to have a quantitative index to describe the health of vegetation directly. \n",
    "\n",
    "In this case, the [Normalised Difference Vegetation Index](https://en.wikipedia.org/wiki/Normalized_difference_vegetation_index) (NDVI) can help identify areas of healthy vegetation.\n",
    "For remote sensing data such as satellite imagery, it is defined as\n",
    "\n",
    "$$\n",
    "\\begin{aligned}\n",
    "\\text{NDVI} & = \\frac{(\\text{NIR} - \\text{Red})}{(\\text{NIR} + \\text{Red})}, \\\\\n",
    "\\end{aligned}\n",
    "$$\n",
    "\n",
    "where $\\text{NIR}$ is the near-infrared band of the data, and $\\text{Red}$ is the red band.\n",
    "NDVI can take on values from -1 to 1; high values indicate healthy vegetation and negative values indicate non-vegetation (such as water). \n",
    "\n",
    "The following code calculates the top and bottom of the fraction separately, then computes the NDVI value directly from these components."
   ]
  },
  {
   "cell_type": "code",
   "execution_count": null,
   "metadata": {},
   "outputs": [],
   "source": [
    "# Calculate the components that make up the NDVI calculation\n",
    "band_diff = dataset.nir - dataset.red\n",
    "band_sum = dataset.nir + dataset.red\n",
    "\n",
    "# Calculate NDVI and store it as a measurement in the original dataset\n",
    "dataset[\"ndvi\"] = band_diff / band_sum"
   ]
  },
  {
   "cell_type": "markdown",
   "metadata": {},
   "source": [
    "After calculating the NDVI values, it is possible to plot them by adding the `.plot()` method to `ndvi` (the variable that the values are stored in).\n",
    "The code below will plot a single image, based on the time selected with the `ndvi_time_step` variable.\n",
    "Try changing this value to plot the NDVI map at different time steps.\n",
    "Do you notice any differences?\n",
    "\n",
    "> **Extension 1**: Sometimes, it is valuable to change the colour scale to something that helps with intuitively understanding the image.\n",
    "For example, the \"viridis\" colour map shows high values in greens/yellows (mapping to vegetation), and low values in blue (mapping to water).\n",
    "Try modifying the `.plot(cmap=\"RdYlGn\")` command below to use `cmap=\"viridis\"` instead."
   ]
  },
  {
   "cell_type": "code",
   "execution_count": null,
   "metadata": {},
   "outputs": [],
   "source": [
    "# Set the NDVI time step to view\n",
    "ndvi_time_step = time_step\n",
    "\n",
    "# This is the simple way to plot\n",
    "# Note that high values are likely to be vegetation.\n",
    "plt.figure(figsize=(8, 8))\n",
    "dataset.ndvi.isel(time=ndvi_time_step).plot(cmap=\"RdYlGn\", vmin=0, vmax=1)\n",
    "plt.show()"
   ]
  },
  {
   "cell_type": "markdown",
   "metadata": {},
   "source": [
    "> **Extension 2**: For the cell above, a single time step was selected using the `.isel()` method.\n",
    "It is possible to plot all time steps by removing the `.isel()` method, and modifying the `.plot()` method to be `.plot(col='time', col_wrap=3)` where `time` is the timesteps for the images.\n",
    "Plotting all of the time steps at once may make it easier to notice differences in vegetation over time."
   ]
  },
  {
   "cell_type": "code",
   "execution_count": null,
   "metadata": {},
   "outputs": [],
   "source": [
    "plt.figure(figsize=(8, 8))\n",
    "dataset.ndvi.plot(col='time', cmap=\"RdYlGn\", vmin=0, vmax=1, col_wrap=3)\n",
    "plt.show()"
   ]
  },
  {
   "cell_type": "markdown",
   "metadata": {
    "tags": []
   },
   "source": [
    "## Step 5: Exporting data\n",
    "\n",
    "Sometimes, you will want to analyse satellite imagery in a GIS program, such as QGIS.\n",
    "The `write_cog()` command from the Open Data Cube library allows loaded data to be exported to GeoTIFF, a commonly used file format for geospatial data. This example export an image based on the time_step provided. for more information on exporting multiple images check \n",
    "[Exporting GeoTIFFS notebook](../Frequently_used_code/Exporting_GeoTIFFs.ipynb)\n",
    "> **Note**: the saved file will appear in the same directory as this notebook, and it can be downloaded from here for later use."
   ]
  },
  {
   "cell_type": "code",
   "execution_count": null,
   "metadata": {},
   "outputs": [],
   "source": [
    "# You can change the name from example to your prefered name, if you like.\n",
    "filename = \"example.tif\"\n",
    "\n",
    "dataset.ndvi.isel(time=ndvi_time_step).odc.write_cog(filename, overwrite=True)"
   ]
  },
  {
   "cell_type": "markdown",
   "metadata": {},
   "source": [
    "## Recommended next steps\n",
    "\n",
    "### For this notebook\n",
    "Many of the variables used in this analysis are configurable. We recommend returning to the\n",
    "beginning of the notebook and re-running the analysis with a different location, dates, measurements, and so on.\n",
    "\n",
    "You could try to do the same analysis using the cloud masking techniques used in the Case Study notebook on Sentinel-2\n",
    "Machine Learning, and create a temporal composite, plotting the max NDVI over time.\n",
    "\n",
    "This will help give you more understanding for running your own analysis.\n",
    "\n",
    "If you didn't try the extension activities the first time, try and work on these when you run through the notebook again."
   ]
  }
 ],
 "metadata": {
  "kernelspec": {
   "display_name": "Python 3",
   "language": "python",
   "name": "python3"
  },
  "language_info": {
   "codemirror_mode": {
    "name": "ipython",
    "version": 3
   },
   "file_extension": ".py",
   "mimetype": "text/x-python",
   "name": "python",
   "nbconvert_exporter": "python",
   "pygments_lexer": "ipython3",
   "version": "3.11.11"
  },
  "widgets": {
   "application/vnd.jupyter.widget-state+json": {
    "state": {},
    "version_major": 2,
    "version_minor": 0
   }
  }
 },
 "nbformat": 4,
 "nbformat_minor": 4
}
