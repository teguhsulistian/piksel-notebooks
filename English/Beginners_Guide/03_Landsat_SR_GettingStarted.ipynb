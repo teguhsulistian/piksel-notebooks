{
 "cells": [
  {
   "cell_type": "markdown",
   "metadata": {},
   "source": [
    "# Getting Started with Landsat Surface Reflectance\n",
    "\n",
    "This example demonstrates the basic workflow for accessing and working with Landsat surface reflectance data in the Open Data Cube. We define a small study area, load relevant spectral bands for a selected time period, and visualise the data both as static images and in an interactive map. Finally, we export the processed imagery as a Cloud Optimised GeoTIFF for external use.  \n",
    "\n",
    "## Import libraries\n",
    "\n",
    "We begin by importing the Python libraries required to connect to the datacube, configure data access, define our study area, and apply Landsat-specific utilities.  "
   ]
  },
  {
   "cell_type": "code",
   "execution_count": null,
   "metadata": {},
   "outputs": [],
   "source": [
    "#Import required libraries and packages\n",
    "import os\n",
    "\n",
    "from datacube import Datacube\n",
    "from datacube.utils.aws import configure_s3_access\n",
    "from odc.geo.geom import point\n",
    "from piksel.utils import patch_usgs_landsat"
   ]
  },
  {
   "cell_type": "markdown",
   "metadata": {},
   "source": [
    "## Configure the environment\n",
    "\n",
    "We configure AWS S3 access to ensure the notebook can retrieve Landsat surface reflectance data from cloud storage, and create a `Datacube` instance for querying and loading datasets.  "
   ]
  },
  {
   "cell_type": "code",
   "execution_count": null,
   "metadata": {},
   "outputs": [],
   "source": [
    "os.environ[\"AWS_DEFAULT_REGION\"] = \"us-west-2\"\n",
    "\n",
    "if \"AWS_NO_SIGN_REQUEST\" in os.environ:\n",
    "    del os.environ[\"AWS_NO_SIGN_REQUEST\"]\n",
    "\n",
    "configure_s3_access(requester_pays=True)\n",
    "\n",
    "dc = Datacube()"
   ]
  },
  {
   "cell_type": "markdown",
   "metadata": {},
   "source": [
    "## Pick a study area\n",
    "\n",
    "We define a location of interest using latitude and longitude coordinates, create a small bounding box around this point, and set display parameters for visualisation."
   ]
  },
  {
   "cell_type": "code",
   "execution_count": null,
   "metadata": {},
   "outputs": [],
   "source": [
    "# Find a location you're interested in on Google Maps and copy the coordinates\n",
    "# by right-clicking on the map and clicking the coordinates\n",
    "\n",
    "# These coords are in the order Y then X, or Latitude then Longitude\n",
    "coords = -8.65, 115.20  # Denpasar, Bali\n",
    "aoi_point = point(coords[1], coords[0], crs=\"EPSG:4326\")\n",
    "bbox = aoi_point.buffer(0.2).boundingbox\n",
    "\n",
    "landsat_stretch = dict(vmin=7500, vmax=12000)\n",
    "\n",
    "datetime = \"2025-05\"\n",
    "\n",
    "# Preview the area\n",
    "bbox.explore(zoom=8)"
   ]
  },
  {
   "cell_type": "markdown",
   "metadata": {},
   "source": [
    "## Load data\n",
    "\n",
    "This uses the Datacube library to handle loading of the actual data. The `dask_chunks` argument instructs the tool to use Dask\n",
    "to lazy-load the data."
   ]
  },
  {
   "cell_type": "code",
   "execution_count": null,
   "metadata": {},
   "outputs": [],
   "source": [
    "# Load Landsat 9 Collection 2 Level 2 Surface Reflectance data for the selected area and time range\n",
    "\n",
    "data = dc.load(\n",
    "    product=\"ls9_c2l2_sr\",\n",
    "    measurements=[\"red\", \"green\", \"blue\"],\n",
    "    output_crs=\"EPSG:32750\",\n",
    "    resolution=30,\n",
    "    time=datetime,\n",
    "    longitude=(bbox.left, bbox.right),\n",
    "    latitude=(bbox.bottom, bbox.top),\n",
    "    dask_chunks={\"time\": 1, \"x\": 512, \"y\": 512},\n",
    "    group_by=\"solar_day\"\n",
    ")\n",
    "\n",
    "data"
   ]
  },
  {
   "cell_type": "markdown",
   "metadata": {},
   "source": [
    "## Visualise data\n",
    "\n",
    "This step uses `matplotlib` to view data as a static image. It takes a longer time to\n",
    "run than previous steps, because it's actually loading the data to prepare the images.\n",
    "\n",
    "Note the xarray dataset we loaded in the above cell has 4 images (We can tell from the `time dimension`). Now let's plot all four images at once.\n",
    "\n",
    "The `to_array()` function is used to convert the data from an xarray dataset to an array format to allow us to visualise the data as a\n",
    "red, green, blue \"true colour\" image."
   ]
  },
  {
   "cell_type": "code",
   "execution_count": null,
   "metadata": {},
   "outputs": [],
   "source": [
    "data.to_array().plot.imshow(col=\"time\", col_wrap=2, size=6, **landsat_stretch)"
   ]
  },
  {
   "cell_type": "markdown",
   "metadata": {},
   "source": [
    "### Interactive map\n",
    "\n",
    "This step uses another `odc` tool to visualise the data on a map.\n",
    "\n",
    "Based on the four images plotted above, we determined that the image captured on 2025-05-04 is the most suitable for our analysis. We can select this image from the xarray.Dataset data using the .sel function, specifying the time parameter as \"2025-05-04\"."
   ]
  },
  {
   "cell_type": "code",
   "execution_count": null,
   "metadata": {},
   "outputs": [],
   "source": [
    "best = data.sel(time=\"2025-05-04\").squeeze()\n",
    "\n",
    "# The odc.explore function will choose red, green and blue by default\n",
    "# but you can choose bands with the bands=[\"b1\", \"b2\", \"b3\"] argument\n",
    "best.odc.explore(**landsat_stretch)"
   ]
  },
  {
   "cell_type": "markdown",
   "metadata": {},
   "source": [
    "## Export data\n",
    "\n",
    "Here we write data to disk, again using an `odc` tool."
   ]
  },
  {
   "cell_type": "code",
   "execution_count": null,
   "metadata": {},
   "outputs": [],
   "source": [
    "rgba = best.odc.to_rgba(**landsat_stretch)\n",
    "rgba.odc.write_cog(\"landsat_sr_example.tif\", overwrite=True)"
   ]
  }
 ],
 "metadata": {
  "kernelspec": {
   "display_name": "Python 3",
   "language": "python",
   "name": "python3"
  },
  "language_info": {
   "codemirror_mode": {
    "name": "ipython",
    "version": 3
   },
   "file_extension": ".py",
   "mimetype": "text/x-python",
   "name": "python",
   "nbconvert_exporter": "python",
   "pygments_lexer": "ipython3",
   "version": "3.11.11"
  }
 },
 "nbformat": 4,
 "nbformat_minor": 4
}
