{
 "cells": [
  {
   "cell_type": "markdown",
   "metadata": {},
   "source": [
    "# Getting Started with Landsat Surface Temperature\n",
    "\n",
    "This notebook is a very simple example of the fundamentals of working with\n",
    "Earth observation data using the Open Data Cube.\n",
    "\n",
    "## Import libraries"
   ]
  },
  {
   "cell_type": "code",
   "execution_count": null,
   "metadata": {},
   "outputs": [],
   "source": [
    "import os\n",
    "\n",
    "from datacube import Datacube\n",
    "from datacube.utils import masking\n",
    "from datacube.utils.aws import configure_s3_access\n",
    "from odc.geo.geom import point"
   ]
  },
  {
   "cell_type": "markdown",
   "metadata": {},
   "source": [
    "## Configure the environment"
   ]
  },
  {
   "cell_type": "code",
   "execution_count": null,
   "metadata": {},
   "outputs": [],
   "source": [
    "os.environ[\"AWS_DEFAULT_REGION\"] = \"us-west-2\"\n",
    "\n",
    "if \"AWS_NO_SIGN_REQUEST\" in os.environ:\n",
    "    del os.environ[\"AWS_NO_SIGN_REQUEST\"]\n",
    "\n",
    "configure_s3_access(requester_pays=True)\n",
    "\n",
    "dc = Datacube()"
   ]
  },
  {
   "cell_type": "markdown",
   "metadata": {},
   "source": [
    "## Pick a study area"
   ]
  },
  {
   "cell_type": "code",
   "execution_count": null,
   "metadata": {},
   "outputs": [],
   "source": [
    "# Find a location you're interested in on Google Maps and copy the coordinates\n",
    "# by right-clicking on the map and clicking the coordinates\n",
    "\n",
    "# These coords are in the order Y then X, or Latitude then Longitude\n",
    "coords = -8.65, 115.20  # Denpasar, Bali\n",
    "aoi_point = point(coords[1], coords[0], crs=\"EPSG:4326\")\n",
    "bbox = aoi_point.buffer(0.05).boundingbox\n",
    "\n",
    "landsat_stretch = dict(vmin=7500, vmax=12000)\n",
    "\n",
    "datetime = \"2024\"\n",
    "\n",
    "# Preview the area\n",
    "bbox.explore(zoom=8)"
   ]
  },
  {
   "cell_type": "markdown",
   "metadata": {},
   "source": [
    "## Load data\n",
    "\n",
    "This uses the Datacube library to handle loading of the actual data. The `dask_chunks` argument instructs the tool to use Dask\n",
    "to lazy-load the data.\n",
    "\n",
    "Here we mask out clouds, which interfere with the temperature, and then convert to degrees celcius."
   ]
  },
  {
   "cell_type": "code",
   "execution_count": null,
   "metadata": {},
   "outputs": [],
   "source": [
    "data = dc.load(\n",
    "    product=\"ls9_c2l2_st\",\n",
    "    measurements=[\"st\", \"qa_pixel\"],\n",
    "    output_crs=\"EPSG:32750\",\n",
    "    resolution=30,\n",
    "    time=datetime,\n",
    "    longitude=(bbox.left, bbox.right),\n",
    "    latitude=(bbox.bottom, bbox.top),\n",
    "    dask_chunks={\"time\": 1, \"x\": 512, \"y\": 512},\n",
    "    group_by=\"solar_day\"\n",
    ")\n",
    "\n",
    "# Select clouds\n",
    "mask, _ = masking.create_mask_value(\n",
    "    data[\"qa_pixel\"].attrs[\"flags_definition\"],\n",
    "    cloud=\"high_confidence\",\n",
    "    cloud_shadow=\"high_confidence\",\n",
    ")\n",
    "\n",
    "pq_mask = (data[\"qa_pixel\"] & mask) != 0\n",
    "nodata = data.st == 0\n",
    "mask = pq_mask | nodata\n",
    "\n",
    "# Apply the mask to the data\n",
    "data = data.where(~mask)\n",
    "\n",
    "# Convert the surface temperature unscaled integers to floats, and from Kelvin to Celsius\n",
    "data[\"st\"] = data.st * 0.00341802 + 149.0 - 273.15\n",
    "\n",
    "data"
   ]
  },
  {
   "cell_type": "markdown",
   "metadata": {},
   "source": [
    "## Visualise data\n",
    "\n",
    "This step uses `matplotlib` to view data as a static image. It takes a longer time to\n",
    "run than previous steps, because it's actually loading the data to prepare the images.\n",
    "\n",
    "The `to_array()` function is a trick used to be able to visualise the data as a\n",
    "red, green, blue \"true colour\" image."
   ]
  },
  {
   "cell_type": "code",
   "execution_count": null,
   "metadata": {},
   "outputs": [],
   "source": [
    "data.isel(time=slice(0, 8)).st.plot.imshow(\n",
    "    col=\"time\", col_wrap=2, size=4, cmap=\"coolwarm\"\n",
    ")"
   ]
  },
  {
   "cell_type": "code",
   "execution_count": null,
   "metadata": {},
   "outputs": [],
   "source": [
    "# Create a monthly mean, to reduce the number of images and fill gaps\n",
    "month_mean = data.st.groupby(\"time.month\").mean(dim=\"time\").compute()\n",
    "\n",
    "# Create a spatial mean, so that we have a single value for each month\n",
    "summary = month_mean.mean(dim=[\"x\", \"y\"]).dropna(dim=\"month\")"
   ]
  },
  {
   "cell_type": "code",
   "execution_count": null,
   "metadata": {},
   "outputs": [],
   "source": [
    "# Plot our results as a line graph\n",
    "summary.plot.line(x=\"month\", size=4, color=\"black\")"
   ]
  }
 ],
 "metadata": {
  "kernelspec": {
   "display_name": "Python 3 (ipykernel)",
   "language": "python",
   "name": "python3"
  },
  "language_info": {
   "codemirror_mode": {
    "name": "ipython",
    "version": 3
   },
   "file_extension": ".py",
   "mimetype": "text/x-python",
   "name": "python",
   "nbconvert_exporter": "python",
   "pygments_lexer": "ipython3",
   "version": "3.12.0"
  }
 },
 "nbformat": 4,
 "nbformat_minor": 4
}
