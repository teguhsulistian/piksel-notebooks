{
 "cells": [
  {
   "cell_type": "markdown",
   "metadata": {},
   "source": [
    "# Find, Load, and Visualise Earth Observation Imagery\n",
    "\n",
    "This notebook demonstrates how to find, load, and visualise Earth observation imagery using cloud native approaches, which work well on your desktop or in cloud environments!\n",
    "\n",
    "The notebook demonstrates how to find images from the Datacube, load them, and visualise them using extensions to xarray provided by `odc-geo`."
   ]
  },
  {
   "cell_type": "markdown",
   "metadata": {},
   "source": [
    "## Set up\n",
    "\n",
    "The first step is to set up the required Python libraries and local imports.\n",
    "\n",
    "* `datacube` is used to access the Earth Search STAC catalog\n",
    "* `numpy` is used to manipulate data\n",
    "* `odc.ui` is used to make a location picker"
   ]
  },
  {
   "cell_type": "code",
   "execution_count": null,
   "metadata": {},
   "outputs": [],
   "source": [
    "import numpy as np\n",
    "from datacube import Datacube\n",
    "from odc.geo.geom import point"
   ]
  },
  {
   "cell_type": "markdown",
   "metadata": {},
   "source": [
    "The second step is to start a Dask client.\n",
    "\n",
    "Dask supports local parallel processing and can help speed up computation times."
   ]
  },
  {
   "cell_type": "code",
   "execution_count": null,
   "metadata": {},
   "outputs": [],
   "source": [
    "from dask.distributed import Client\n",
    "\n",
    "dask_client = Client()\n",
    "dask_client"
   ]
  },
  {
   "cell_type": "markdown",
   "metadata": {},
   "source": [
    "## Part 1: Find\n",
    "\n",
    "### 1.1 Connecting to Datacube"
   ]
  },
  {
   "cell_type": "code",
   "execution_count": null,
   "metadata": {},
   "outputs": [],
   "source": [
    "# Set up the Datacube\n",
    "dc = Datacube()"
   ]
  },
  {
   "cell_type": "markdown",
   "metadata": {},
   "source": [
    "### 1.2 Selecting an area to query"
   ]
  },
  {
   "cell_type": "code",
   "execution_count": null,
   "metadata": {},
   "outputs": [],
   "source": [
    "lat, lon = xx, xx # Paste your lat, lon here\n",
    "aoi = point(lon, lat, crs=\"epsg:4326\")\n",
    "\n",
    "polygon = aoi.buffer(0.1)\n",
    "polygon.explore()"
   ]
  },
  {
   "cell_type": "markdown",
   "metadata": {},
   "source": [
    "### 1.3 Set year and month to query"
   ]
  },
  {
   "cell_type": "code",
   "execution_count": null,
   "metadata": {},
   "outputs": [],
   "source": [
    "# Set a start and end date\n",
    "date_query = \"2025-06\""
   ]
  },
  {
   "cell_type": "markdown",
   "metadata": {},
   "source": [
    "### 1.4 Query for cloud cover"
   ]
  },
  {
   "cell_type": "code",
   "execution_count": null,
   "metadata": {},
   "outputs": [],
   "source": [
    "cloud_cover_query = (0, 60)"
   ]
  },
  {
   "cell_type": "markdown",
   "metadata": {},
   "source": [
    "### 1.5 Running the query to indentify Datasets"
   ]
  },
  {
   "cell_type": "code",
   "execution_count": null,
   "metadata": {},
   "outputs": [],
   "source": [
    "product = \"s2_l2a\"\n",
    "\n",
    "# Query with filtering for cloud cover\n",
    "datasets = dc.find_datasets(\n",
    "    product=product,\n",
    "    lon=(bbox.left, bbox.right),\n",
    "    lat=(bbox.bottom, bbox.top),\n",
    "    time=date_query,\n",
    "    cloud_cover=cloud_cover_query,\n",
    ")\n",
    "\n",
    "print(f\"Found {len(datasets)} Datasets matching the query.\")"
   ]
  },
  {
   "cell_type": "markdown",
   "metadata": {},
   "source": [
    "## Part 2: Load\n",
    "\n",
    "### 2.1 Using odc-stac to load identified items\n",
    "\n",
    "This may take a few minutes"
   ]
  },
  {
   "cell_type": "code",
   "execution_count": null,
   "metadata": {},
   "outputs": [],
   "source": [
    "# Load our filtered data\n",
    "ds_filtered = dc.load(\n",
    "    datasets=datasets,\n",
    "    measurements=[\"red\", \"green\", \"blue\"],\n",
    "    dask_chunks={},\n",
    "    resolution=20,\n",
    "    group_by=\"solar_day\",\n",
    "    output_crs=datasets[0].crs,\n",
    "    geopolygon=polygon,\n",
    ").compute()\n",
    "\n",
    "ds_filtered"
   ]
  },
  {
   "cell_type": "markdown",
   "metadata": {},
   "source": [
    "### 2.2 Review loaded imagery\n",
    "\n",
    "Identify which image you want to export and note the date."
   ]
  },
  {
   "cell_type": "code",
   "execution_count": null,
   "metadata": {},
   "outputs": [],
   "source": [
    "# To_array sets up a 3D array with the time dimension, which works directly\n",
    "# with the plot function to make an RGB image\n",
    "ds_filtered.to_array().plot.imshow(col=\"time\", col_wrap=3, robust=True)"
   ]
  },
  {
   "cell_type": "markdown",
   "metadata": {},
   "source": [
    "## Part 3: Visualise\n",
    "\n",
    "### 3.1 Select best image\n",
    "\n",
    "Update the `best_image_date` parameter to match the date you identified in the previous step."
   ]
  },
  {
   "cell_type": "code",
   "execution_count": null,
   "metadata": {},
   "outputs": [],
   "source": [
    "best_image_date = \"2025-06-02\"\n",
    "\n",
    "best_image = ds_filtered.sel(time=best_image_date).squeeze()\n",
    "\n",
    "best_image"
   ]
  },
  {
   "cell_type": "markdown",
   "metadata": {},
   "source": [
    "### 3.2 View the selected image on an interactive map"
   ]
  },
  {
   "cell_type": "code",
   "execution_count": null,
   "metadata": {},
   "outputs": [],
   "source": [
    "visualisation = best_image.odc.to_rgba()\n",
    "\n",
    "visualisation.odc.explore()"
   ]
  },
  {
   "cell_type": "markdown",
   "metadata": {},
   "source": [
    "### 3.3 Improve the image contrast\n",
    "\n",
    "Calculate the values corresponding to the 1st and 99th percentiles. \n",
    "These can be used in the `to_rgba()` function to stretch the image."
   ]
  },
  {
   "cell_type": "code",
   "execution_count": null,
   "metadata": {},
   "outputs": [],
   "source": [
    "percentile_stretch = (1, 99)\n",
    "\n",
    "rgb_array = best_image.to_array().values\n",
    "\n",
    "stretch_vmin, stretch_vmax = np.nanpercentile(rgb_array, percentile_stretch)"
   ]
  },
  {
   "cell_type": "markdown",
   "metadata": {},
   "source": [
    "Apply the percentile stretch values to the visualisation"
   ]
  },
  {
   "cell_type": "code",
   "execution_count": null,
   "metadata": {},
   "outputs": [],
   "source": [
    "stretch_visualisation = best_image.odc.to_rgba(vmin=stretch_vmin, vmax=stretch_vmax)\n",
    "\n",
    "stretch_visualisation.odc.explore()"
   ]
  },
  {
   "cell_type": "markdown",
   "metadata": {},
   "source": [
    "### 3.4 Export to a cloud-optimised GeoTIFF"
   ]
  },
  {
   "cell_type": "code",
   "execution_count": null,
   "metadata": {},
   "outputs": [],
   "source": [
    "stretch_visualisation.odc.write_cog(\"sentinel2_example.tif\", overwrite=True)"
   ]
  },
  {
   "cell_type": "markdown",
   "metadata": {},
   "source": [
    "## Part 4: Tidy up\n",
    "\n",
    "In this section, we close the Dask client.\n",
    "This prevents multiple clients being instantiated when using different notebooks."
   ]
  },
  {
   "cell_type": "code",
   "execution_count": null,
   "metadata": {},
   "outputs": [],
   "source": [
    "dask_client.close()"
   ]
  }
 ],
 "metadata": {
  "kernelspec": {
   "display_name": "Python 3",
   "language": "python",
   "name": "python3"
  },
  "language_info": {
   "codemirror_mode": {
    "name": "ipython",
    "version": 3
   },
   "file_extension": ".py",
   "mimetype": "text/x-python",
   "name": "python",
   "nbconvert_exporter": "python",
   "pygments_lexer": "ipython3",
   "version": "3.11.11"
  }
 },
 "nbformat": 4,
 "nbformat_minor": 2
}
