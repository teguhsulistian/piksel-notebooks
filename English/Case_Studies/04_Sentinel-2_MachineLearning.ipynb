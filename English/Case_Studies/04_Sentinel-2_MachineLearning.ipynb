{
 "cells": [
  {
   "cell_type": "markdown",
   "metadata": {},
   "source": [
    "# Machine Learning using Sentinel-2 Data\n",
    "\n",
    "This example uses training data from the\n",
    "[Coast Train](https://github.com/nick-murray/coastTrain) dataset\n",
    "along with Sentinel-2 data to demonstrate how to use a\n",
    "machine learning classifier, in this case, Random Forest, to\n",
    "assign a class to each pixel.\n",
    "\n",
    "This notebook combines lessons from previous notebooks into\n",
    "a comprehensive worked example."
   ]
  },
  {
   "cell_type": "markdown",
   "metadata": {},
   "source": [
    "## Getting started\n",
    "\n",
    "First we load the required Python libraries and tools."
   ]
  },
  {
   "cell_type": "code",
   "execution_count": null,
   "metadata": {},
   "outputs": [],
   "source": [
    "import os\n",
    "import dask.config\n",
    "\n",
    "import folium\n",
    "import geopandas as gpd\n",
    "import numpy as np\n",
    "import pandas as pd\n",
    "import xarray as xr\n",
    "from dask.distributed import Client, LocalCluster\n",
    "from datacube import Datacube\n",
    "from datacube.utils.masking import valid_data_mask\n",
    "from ipyleaflet import basemaps\n",
    "from odc.algo import mask_cleanup\n",
    "from odc.geo.geom import point\n",
    "from odc.stac import configure_s3_access\n",
    "from sklearn.ensemble import RandomForestClassifier\n",
    "from urllib.parse import urlparse"
   ]
  },
  {
   "cell_type": "markdown",
   "metadata": {},
   "source": [
    "## Study site configuration\n",
    "\n",
    "Here we establish the STAC catalog we're using as well as a\n",
    "spatial and temporal extent. This can be anywhere, but this location\n",
    "near Kuching was chosen due to the training data having several\n",
    "classes available."
   ]
  },
  {
   "cell_type": "code",
   "execution_count": null,
   "metadata": {},
   "outputs": [],
   "source": [
    "start_date = \"2025-01\"\n",
    "end_date = \"2025-06\"\n",
    "\n",
    "# Location is around Pulau Sepanjang, Indonesia\n",
    "coords = -7.12, 115.82\n",
    "\n",
    "aoi_point = point(coords[1], coords[0], crs=\"EPSG:4326\")\n",
    "area = aoi_point.buffer(0.1).boundingbox\n",
    "\n",
    "area.explore(tiles=basemaps.Esri.WorldImagery)"
   ]
  },
  {
   "cell_type": "markdown",
   "metadata": {},
   "source": [
    "## Configure our environment.\n",
    "\n",
    "This cell sets up Dask, which we use for parallel computing, and configures\n",
    "AWS credentials for \"unsigned\" (public) data access.\n"
   ]
  },
  {
   "cell_type": "code",
   "execution_count": null,
   "metadata": {},
   "outputs": [],
   "source": [
    "os.environ[\"AWS_DEFAULT_REGION\"] = \"us-west-2\"\n",
    "\n",
    "# Configure S3 access for datacube\n",
    "configure_s3_access(no_sign_request=True)\n",
    "\n",
    "# Set up the Datacube\n",
    "dc = Datacube(app=\"Sentinel-2_MachineLearning\")"
   ]
  },
  {
   "cell_type": "code",
   "execution_count": null,
   "metadata": {},
   "outputs": [],
   "source": [
    "# Set up Dask\n",
    "cluster = LocalCluster(\n",
    "    n_workers=2,\n",
    "    threads_per_worker=2,\n",
    "    memory_limit='10GB'\n",
    ")\n",
    "\n",
    "dashboard_url = cluster.dashboard_link\n",
    "port = urlparse(dashboard_url).port\n",
    "\n",
    "jupyterhub_user = os.environ.get('JUPYTERHUB_USER')\n",
    "dask.config.set(**{\n",
    "    \"distributed.dashboard.link\": f\"/user/{jupyterhub_user}/proxy/{port}/status\"\n",
    "})\n",
    "\n",
    "client = Client(cluster)\n",
    "client"
   ]
  },
  {
   "cell_type": "markdown",
   "metadata": {},
   "source": [
    "## Training data\n",
    "\n",
    "Next up we gather training data. This could be any geospatial point dataset\n",
    "with a column that is numeric, for the class.\n",
    "\n",
    "If you'd like to explore the structure of this data, you can run `gdf.head()`\n",
    "to see the first few rows. The `explore()` function with the `column` argument\n",
    "will show the data on the map, and change the colour based on that column."
   ]
  },
  {
   "cell_type": "code",
   "execution_count": null,
   "metadata": {},
   "outputs": [],
   "source": [
    "# Get the training data\n",
    "data_url = \"data/NusaTenggaraBarat_tdata.geojson\"\n",
    "gdf = gpd.read_file(data_url, bbox=tuple(area))\n",
    "\n",
    "# Alternately, use your updated data if you have it.\n",
    "# gdf = gpd.read_file(\"data/training_revised.geojson\", bbox=bbox)\n",
    "\n",
    "gdf.explore(\n",
    "    column=\"Ecosys_Typ\",\n",
    "    legend=True,\n",
    "    tiles=basemaps.Esri.WorldImagery,\n",
    "    style_kwds={\"radius\": 5},\n",
    ")"
   ]
  },
  {
   "cell_type": "markdown",
   "metadata": {},
   "source": [
    "## Find and load Sentinel-2 data\n",
    "\n",
    "Here we search for Sentinel-2 scenes over our study area and use\n",
    "Dask to lazy-load them. We're only loading the red, green, blue, nir and swir\n",
    "bands, along with the scene classification (scl) band."
   ]
  },
  {
   "cell_type": "code",
   "execution_count": null,
   "metadata": {},
   "outputs": [],
   "source": [
    "# Find and load Sentinel-2 datasets\n",
    "sentinel2_datasets = dc.find_datasets(\n",
    "    product=[\"s2_l2a\"],\n",
    "    time=(start_date, end_date),\n",
    "    longitude=(area.left, area.right),\n",
    "    latitude=(area.bottom, area.top),\n",
    "    cloud_cover=(0, 80),\n",
    ")\n",
    "\n",
    "print(f\"Found {len(sentinel2_datasets)} Sentinel-2 datasets\")\n",
    "\n",
    "ds = dc.load(\n",
    "    datasets=sentinel2_datasets,\n",
    "    longitude=(area.left, area.right),\n",
    "    latitude=(area.bottom, area.top),\n",
    "    output_crs=\"EPSG:6933\",\n",
    "    resolution=10,\n",
    "    measurements=[\"red\", \"green\", \"blue\", \"nir08\", \"swir16\", \"swir22\", \"scl\"],\n",
    "    group_by=\"solar_day\",\n",
    "    dask_chunks={\"time\": 1, \"x\": 3200, \"y\": 3200},\n",
    "    resampling={\n",
    "        \"*\": \"cubic\",\n",
    "        \"scl\": \"nearest\",\n",
    "    },\n",
    "    driver=\"rio\",\n",
    ")\n",
    "\n",
    "# Mask Sentinel-2 data\n",
    "# 3 is cloud shadow, 8 is medium probability cloud, 9 is high probability cloud\n",
    "cloud_mask = ds.scl.isin([3, 8, 9])\n",
    "cloud_mask = mask_cleanup(cloud_mask, ((\"dilation\", 10), (\"erosion\", 5)))\n",
    "valid_data = valid_data_mask(ds)\n",
    "mask = cloud_mask | ~valid_data\n",
    "\n",
    "data_masked = ds.where(~mask).drop_vars(\"scl\")\n",
    "\n",
    "# Scale Sentinel-2 data so that values are between 0 and 1\n",
    "data = (data_masked * 0.0001).clip(0, 1)  # Scale Sentinel-2 data to match Landsat scale\n",
    "\n",
    "# Create some indices\n",
    "# MNDWI for water\n",
    "data[\"mndwi\"] = (data.green - data.swir16) / (data.green + data.swir16)\n",
    "\n",
    "# NDVI for vegetation\n",
    "data[\"ndvi\"] = (data.nir08 - data.red) / (data.nir08 + data.red)\n",
    "\n",
    "# Natural log of blue/green for shallow water definition\n",
    "data[\"ln_bg\"] = np.log(data.blue / data.green)\n",
    "\n",
    "# Modified form of MVI (Baloloy et al. 2020) for distinguishing between mangroves and other vegetation types\n",
    "data[\"mvi\"] = (((data.nir08 - data.green) / (data.swir16 - data.green)) * 0.1).clip(\n",
    "    -1, 1\n",
    ")\n",
    "\n",
    "data"
   ]
  },
  {
   "cell_type": "markdown",
   "metadata": {},
   "source": [
    "## Data preparation\n",
    "\n",
    "Now that we have data, we need to clean it up, masking out clouds\n",
    "and scaling values to between 0-1, which are the valid reflectance\n",
    "values.\n",
    "\n",
    "We add a couple of indices too, which will help the machine learning\n",
    "algorithm.\n",
    "\n",
    "Note that we still have a lazy-loaded array, and haven't transferred\n",
    "any data over the network."
   ]
  },
  {
   "cell_type": "code",
   "execution_count": null,
   "metadata": {},
   "outputs": [],
   "source": [
    "# Visualise one date, to make sure it looks good.\n",
    "# This example shows empty areas where we've masked out clouds.\n",
    "\n",
    "# This process of loading should take less than a minute\n",
    "data.isel(time=0).odc.explore(vmin=0, vmax=0.3, tiles=basemaps.CartoDB.DarkMatter)"
   ]
  },
  {
   "cell_type": "markdown",
   "metadata": {},
   "source": [
    "## Create a cloud-free composite\n",
    "\n",
    "The final data preparation step involves creating a temporal\n",
    "median of the data bands. Here we use `compute()` to process\n",
    "the data and bring it into memory.\n",
    "\n",
    "We preview the data in the second cell below."
   ]
  },
  {
   "cell_type": "code",
   "execution_count": null,
   "metadata": {},
   "outputs": [],
   "source": [
    "# Create a median composite, which should get rid of most of the remaining clouds\n",
    "# Note that this will take a few minutes to complete\n",
    "\n",
    "median = data.median(\"time\").compute()\n",
    "\n",
    "median"
   ]
  },
  {
   "cell_type": "code",
   "execution_count": null,
   "metadata": {},
   "outputs": [],
   "source": [
    "median.odc.explore(vmin=0, vmax=0.3, tiles=basemaps.CartoDB.DarkMatter)"
   ]
  },
  {
   "cell_type": "markdown",
   "metadata": {},
   "source": [
    "## Prepare training data array\n",
    "\n",
    "This next step involves extracting observed values from the satellite data\n",
    "and combining them with our point data, resulting in something like this:\n",
    "\n",
    "`class, red, green, blue ...`\n",
    "\n",
    "This structure is then fed into the machine learning classifier."
   ]
  },
  {
   "cell_type": "code",
   "execution_count": null,
   "metadata": {},
   "outputs": [],
   "source": [
    "# First transform the training points to the same CRS as the data\n",
    "training = gdf.to_crs(median.odc.geobox.crs)\n",
    "\n",
    "# Next get the X and Y values out of the point geometries\n",
    "training_da = training.assign(x=training.geometry.x, y=training.geometry.y).to_xarray()\n",
    "\n",
    "# Now we can use the x and y values (lon, lat) to extract values from the median composite\n",
    "training_values = (\n",
    "    median.sel(training_da[[\"x\", \"y\"]], method=\"nearest\")\n",
    "    .squeeze()\n",
    "    .compute()\n",
    "    .to_pandas()\n",
    ")\n",
    "\n",
    "# Join the training data with the extracted values and remove unnecessary columns\n",
    "training_array = pd.concat([training[\"Class\"], training_values], axis=1)\n",
    "training_array = training_array.drop(\n",
    "    columns=[\n",
    "        \"y\",\n",
    "        \"x\",\n",
    "        \"spatial_ref\",\n",
    "    ]\n",
    ")\n",
    "\n",
    "# Drop rows where there was no data available\n",
    "training_array = training_array.dropna()\n",
    "\n",
    "# Preview our resulting training array\n",
    "training_array.head()"
   ]
  },
  {
   "cell_type": "markdown",
   "metadata": {},
   "source": [
    "## Create a classifier and fit a model\n",
    "\n",
    "We pass in simple numpy arrays to the classifier, one has the\n",
    "observations (the values of the red, green, blue and so on)\n",
    "while the other has the classes."
   ]
  },
  {
   "cell_type": "code",
   "execution_count": null,
   "metadata": {},
   "outputs": [],
   "source": [
    "# The classes are the first column\n",
    "classes = np.array(training_array)[:, 0]\n",
    "\n",
    "# The observation data is everything after the first column\n",
    "observations = np.array(training_array)[:, 1:]\n",
    "\n",
    "# Create a model...\n",
    "classifier = RandomForestClassifier(class_weight=\"balanced\")\n",
    "\n",
    "# ...and fit it to the data\n",
    "model = classifier.fit(observations, classes)"
   ]
  },
  {
   "cell_type": "markdown",
   "metadata": {},
   "source": [
    "## Prediction\n",
    "\n",
    "Next we predict. Again, we need a simple numpy array, this time\n",
    "just with the observations. This needs to be in long array where\n",
    "the x dimension is the observation values and the y is each cell\n",
    "in the original raster."
   ]
  },
  {
   "cell_type": "code",
   "execution_count": null,
   "metadata": {},
   "outputs": [],
   "source": [
    "# Convert to a stacked array of observations\n",
    "stacked_arrays = median.to_array().stack(dims=[\"y\", \"x\"]).transpose()\n",
    "\n",
    "# Replace any NaN values with 0\n",
    "stacked_arrays = stacked_arrays.fillna(0)\n",
    "\n",
    "# Predict the classes\n",
    "predicted = model.predict(stacked_arrays)\n",
    "\n",
    "# Reshape back to the original 2D array\n",
    "array = predicted.reshape(len(median.y), len(median.x))\n",
    "\n",
    "# Convert to an xarray again, because it's easier to work with\n",
    "predicted_da = xr.DataArray(array, coords={\"y\": data.y, \"x\": data.x}, dims=[\"y\", \"x\"])"
   ]
  },
  {
   "cell_type": "markdown",
   "metadata": {},
   "source": [
    "## Visualise our results\n",
    "\n",
    "Here we're visualising the results along with the RGB image\n",
    "and the original training data points. We're doing this using\n",
    "a Python library called Folium, which wraps up the Leaflet\n",
    "JavaScript library."
   ]
  },
  {
   "cell_type": "code",
   "execution_count": null,
   "metadata": {},
   "outputs": [],
   "source": [
    "# Put it all on a single interactive map\n",
    "m = folium.Map(\n",
    "    location=tuple(aoi_point.coords[0][::-1]),\n",
    "    zoom_start=11,\n",
    "    tiles=basemaps.Esri.WorldImagery,\n",
    ")\n",
    "\n",
    "# RGB for the median\n",
    "median.odc.to_rgba(vmin=0, vmax=0.3).odc.add_to(m, name=\"Median Composite\")\n",
    "\n",
    "# Categorical for the predicted classes and for the training data\n",
    "# Note that Alex couldn't find a way to use the colormap here, so colours are random!\n",
    "predicted_da.odc.add_to(m, name=\"Predicted\", opacity=0.7)\n",
    "\n",
    "gdf.explore(\n",
    "    m=m,\n",
    "    column=\"Ecosys_Typ\",\n",
    "    name=\"Training Data\",\n",
    "    style_kwds={\n",
    "        \"radius\": 5,\n",
    "        \"stroke\": \"white\",\n",
    "        \"opacity\": 0.7,\n",
    "        \"color\": \"white\",\n",
    "        \"stroke-weight\": 1,\n",
    "    },\n",
    "    categorical=True,\n",
    ")\n",
    "\n",
    "# Layer control\n",
    "folium.LayerControl().add_to(m)\n",
    "\n",
    "m"
   ]
  },
  {
   "cell_type": "code",
   "execution_count": null,
   "metadata": {},
   "outputs": [],
   "source": [
    "# # Export the RGB median to use as a base for updating training data\n",
    "# median[[\"red\", \"green\", \"blue\"]].odc.to_rgba(vmin=0, vmax=0.3).odc.write_cog(\n",
    "#     data_url.replace(\"_tddata.geojson\", \"_median.tif\"), overwrite=True\n",
    "# )\n",
    "\n",
    "# # Export the training data, to update with the more data\n",
    "# gdf[[\"Class\", \"Ecosys_Typ\", \"geometry\"]].to_file(\n",
    "#     data_url.replace(\"_tddata.geojson\", \"_revised.geojson\"), driver=\"GeoJSON\"\n",
    "# )"
   ]
  },
  {
   "cell_type": "markdown",
   "metadata": {},
   "source": [
    "## Conclusions\n",
    "\n",
    "Do the results make sense?\n",
    "\n",
    "What are some of the limitations of the visualisation?\n",
    "\n",
    "### Next steps and opportunities\n",
    "\n",
    "The obvious next step is to fine tune the data. Perhaps download the points for this\n",
    "region of interest as well as the RGB image and add and remove points until\n",
    "there is a more representative training dataset."
   ]
  }
 ],
 "metadata": {
  "kernelspec": {
   "display_name": "Python 3 (ipykernel)",
   "language": "python",
   "name": "python3"
  },
  "language_info": {
   "codemirror_mode": {
    "name": "ipython",
    "version": 3
   },
   "file_extension": ".py",
   "mimetype": "text/x-python",
   "name": "python",
   "nbconvert_exporter": "python",
   "pygments_lexer": "ipython3",
   "version": "3.12.0"
  }
 },
 "nbformat": 4,
 "nbformat_minor": 4
}
