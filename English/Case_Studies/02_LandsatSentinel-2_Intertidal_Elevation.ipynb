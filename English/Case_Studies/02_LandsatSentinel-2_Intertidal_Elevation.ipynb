{
 "cells": [
  {
   "cell_type": "markdown",
   "id": "306a1f55-3f9d-4996-be95-e11e5a74a86b",
   "metadata": {},
   "source": [
    "# DEA Intertidal Elevation\n",
    "\n",
    "This notebook demonstrates how to run and customise a DEA Intertidal Elevation analysis.\n",
    "\n",
    "The notebook is adapted from the [Geoscience Australia example](https://github.com/GeoscienceAustralia/dea-intertidal/blob/rbt/notebooks/Intertidal_elevation.ipynb).\n",
    "\n",
    "## Getting started"
   ]
  },
  {
   "cell_type": "markdown",
   "id": "4244cc06-b5e7-4120-8514-adf35082cb2c",
   "metadata": {},
   "source": [
    "### Load packages"
   ]
  },
  {
   "cell_type": "code",
   "execution_count": null,
   "id": "2520e8de-ac2c-4571-99a0-f7fb7b932f56",
   "metadata": {},
   "outputs": [],
   "source": [
    "import os\n",
    "import dask.config\n",
    "\n",
    "import matplotlib.pyplot as plt\n",
    "import xarray as xr\n",
    "from dask.distributed import Client, LocalCluster\n",
    "from datacube import Datacube\n",
    "from datacube.utils.masking import create_mask_value, valid_data_mask\n",
    "from eo_tides.eo import pixel_tides\n",
    "from intertidal.elevation import (\n",
    "    clean_edge_pixels,\n",
    "    ds_to_flat,\n",
    "    flat_to_ds,\n",
    "    pixel_dem,\n",
    "    pixel_rolling_median,\n",
    "    pixel_uncertainty,\n",
    ")\n",
    "from intertidal.io import extract_geobox\n",
    "from ipyleaflet import basemaps\n",
    "from odc.geo.geom import point\n",
    "from odc.stac import configure_s3_access\n",
    "from urllib.parse import urlparse"
   ]
  },
  {
   "cell_type": "markdown",
   "id": "e91bad81",
   "metadata": {},
   "source": [
    "## Configure the environment"
   ]
  },
  {
   "cell_type": "code",
   "execution_count": null,
   "id": "356f64e8",
   "metadata": {},
   "outputs": [],
   "source": [
    "os.environ[\"AWS_DEFAULT_REGION\"] = \"us-west-2\"\n",
    "\n",
    "if \"AWS_NO_SIGN_REQUEST\" in os.environ:\n",
    "    del os.environ[\"AWS_NO_SIGN_REQUEST\"]\n",
    "\n",
    "configure_s3_access(requester_pays=True)\n",
    "\n",
    "dc = Datacube()"
   ]
  },
  {
   "cell_type": "code",
   "execution_count": null,
   "id": "b59a1ebd",
   "metadata": {},
   "outputs": [],
   "source": [
    "# Set up Dask\n",
    "cluster = LocalCluster(\n",
    "    n_workers=2,\n",
    "    threads_per_worker=2,\n",
    "    memory_limit='10GB'\n",
    ")\n",
    "\n",
    "dashboard_url = cluster.dashboard_link\n",
    "port = urlparse(dashboard_url).port\n",
    "\n",
    "jupyterhub_user = os.environ.get('JUPYTERHUB_USER')\n",
    "dask.config.set(**{\n",
    "    \"distributed.dashboard.link\": f\"/user/{jupyterhub_user}/proxy/{port}/status\"\n",
    "})\n",
    "\n",
    "client = Client(cluster)\n",
    "client"
   ]
  },
  {
   "cell_type": "markdown",
   "id": "1a69b01f-bae0-4373-8ed6-e907393407eb",
   "metadata": {
    "tags": []
   },
   "source": [
    "## Setup\n"
   ]
  },
  {
   "cell_type": "markdown",
   "id": "b02efd2f-dab6-41ec-86f0-1724c93cf356",
   "metadata": {},
   "source": [
    "### Set analysis parameters"
   ]
  },
  {
   "cell_type": "code",
   "execution_count": null,
   "id": "96122c69-8f4d-439a-a945-8f19294d2e07",
   "metadata": {
    "tags": []
   },
   "outputs": [],
   "source": [
    "# Intertidal Elevation variables\n",
    "start_date = \"2018\"  # Start date for analysis\n",
    "end_date = \"2020\"  # End date for analysis\n",
    "resolution = 20  # Spatial resolution used for output files\n",
    "crs = \"EPSG:6933\"  # Coordinate Reference System (CRS) to use for output files\n",
    "min_freq = 0.01  # Minimum wetness freq required for pixel to be included in analysis\n",
    "max_freq = 0.99  # Maximum wetness freq required for pixel to be included in analysis\n",
    "min_correlation = 0.15  # Minimum correlation between water index and tide height\n",
    "ndwi_thresh = 0.1  # Threshold used to identify dry/wet transition\n",
    "include_s2 = True  # Include Sentinel-2 data in the analysis?\n",
    "include_ls = True  # Include Landsat data in the analysis?\n",
    "tide_model = \"EOT20\"  # Tide model to use in analysis\n",
    "tide_model_dir = \"~/jovyan/data/coastlines/tide_models/\"\n",
    "max_cloud_cover = (\n",
    "    60  # Maximum cloud cover percentage for datasets to be included in analysis\n",
    ")"
   ]
  },
  {
   "cell_type": "markdown",
   "id": "694c8695-d30d-4d55-84b2-d31a910ebaf3",
   "metadata": {},
   "source": [
    "#### Set study area"
   ]
  },
  {
   "cell_type": "code",
   "execution_count": null,
   "id": "83deed16",
   "metadata": {},
   "outputs": [],
   "source": [
    "study_area = \"testing\"\n",
    "\n",
    "coords = -7.135908786754243, 114.5000202988149\n",
    "\n",
    "aoi_point = point(coords[1], coords[0], crs=\"EPSG:4326\")\n",
    "area = aoi_point.buffer(0.02).boundingbox\n",
    "\n",
    "geobox = extract_geobox(geom=area.polygon, resolution=resolution, crs=crs)\n",
    "geobox.explore(tiles=basemaps.Esri.WorldImagery)"
   ]
  },
  {
   "cell_type": "markdown",
   "id": "54c892b8-42d3-4930-ad97-e0e214535fc5",
   "metadata": {},
   "source": [
    "## Load data"
   ]
  },
  {
   "cell_type": "code",
   "execution_count": null,
   "id": "98e930ff-c5a4-45fa-a043-b8902c606d63",
   "metadata": {
    "tags": []
   },
   "outputs": [],
   "source": [
    "categories_to_mask_landsat = {\n",
    "    \"cloud\": \"high_confidence\",\n",
    "    \"cloud_shadow\": \"high_confidence\",\n",
    "}\n",
    "\n",
    "# Find and load Landsat datasets\n",
    "landsat_datasets = dc.find_datasets(\n",
    "    product=[\"ls8_c2l2_sr\", \"ls9_c2l2_sr\"],\n",
    "    time=(start_date, end_date),\n",
    "    like=geobox.compat,\n",
    "    cloud_cover=(0, max_cloud_cover),\n",
    "    collection_category=\"T1\",  # Only include T1 quality data\n",
    ")\n",
    "\n",
    "print(f\"Found {len(landsat_datasets)} Landsat datasets\")\n",
    "\n",
    "ls_ds = dc.load(\n",
    "    datasets=landsat_datasets,\n",
    "    like=geobox.compat,\n",
    "    measurements=[\"red\", \"green\", \"blue\", \"nir08\", \"swir16\", \"swir22\", \"qa_pixel\"],\n",
    "    group_by=\"solar_day\",\n",
    "    dask_chunks={\"time\": 1, \"x\": 3200, \"y\": 3200},\n",
    "    resampling={\n",
    "        \"*\": \"cubic\",\n",
    "        \"qa_pixel\": \"nearest\",\n",
    "    },\n",
    "    # skip_broken_datasets=True,\n",
    "    driver=\"rio\",\n",
    ")\n",
    "\n",
    "# Mask Landsat data\n",
    "mask_value, _ = create_mask_value(\n",
    "    landsat_datasets[0].product.measurements[\"qa_pixel\"].flags_definition,\n",
    "    **categories_to_mask_landsat,\n",
    ")\n",
    "\n",
    "cloud_mask = (ls_ds.qa_pixel & mask_value) != 0\n",
    "valid_data = valid_data_mask(ls_ds)\n",
    "mask = cloud_mask | ~valid_data\n",
    "\n",
    "ls_ds_masked = ls_ds.where(~mask).drop_vars(\"qa_pixel\")\n",
    "\n",
    "# Scale Landsat data, so that values are between 0 and 1\n",
    "ls_ds_scaled = (ls_ds_masked * 0.0000275 - 0.2).clip(0, 1)\n",
    "\n",
    "ls_ds_scaled"
   ]
  },
  {
   "cell_type": "code",
   "execution_count": null,
   "id": "b734ae7b",
   "metadata": {},
   "outputs": [],
   "source": [
    "# ls_ds_scaled[[\"red\", \"green\", \"blue\"]].isel(time=slice(0, 6)).to_array().plot.imshow(\n",
    "#     col=\"time\", col_wrap=3, size=4, vmin=0, vmax=0.3\n",
    "# )"
   ]
  },
  {
   "cell_type": "code",
   "execution_count": null,
   "id": "8ab20e29",
   "metadata": {},
   "outputs": [],
   "source": [
    "# Find and load Sentinel-2 datasets\n",
    "sentinel2_datasets = dc.find_datasets(\n",
    "    product=[\"s2_l2a\"],\n",
    "    time=(start_date, end_date),\n",
    "    like=geobox.compat,\n",
    "    cloud_cover=(0, max_cloud_cover),\n",
    ")\n",
    "\n",
    "print(f\"Found {len(sentinel2_datasets)} Sentinel-2 datasets\")\n",
    "\n",
    "s2_ds = dc.load(\n",
    "    datasets=sentinel2_datasets,\n",
    "    like=geobox.compat,\n",
    "    measurements=[\"red\", \"green\", \"blue\", \"nir08\", \"swir16\", \"swir22\", \"scl\"],\n",
    "    group_by=\"solar_day\",\n",
    "    dask_chunks={\"time\": 1, \"x\": 3200, \"y\": 3200},\n",
    "    resampling={\n",
    "        \"*\": \"cubic\",\n",
    "        \"scl\": \"nearest\",\n",
    "    },\n",
    "    driver=\"rio\",\n",
    ")\n",
    "\n",
    "# Mask Sentinel-2 data\n",
    "# 3 is cloud shadow, 8 is medium probability cloud, 9 is high probability cloud\n",
    "cloud_mask = s2_ds.scl.isin([3, 8, 9])\n",
    "valid_data = valid_data_mask(s2_ds)\n",
    "mask = cloud_mask | ~valid_data\n",
    "\n",
    "s2_ds_masked = s2_ds.where(~mask).drop_vars(\"scl\")\n",
    "\n",
    "# Scale Sentinel-2 data so that values are between 0 and 1\n",
    "s2_ds_scaled = (s2_ds_masked * 0.0001).clip(\n",
    "    0, 1\n",
    ")  # Scale Sentinel-2 data to match Landsat scale\n",
    "\n",
    "s2_ds_scaled"
   ]
  },
  {
   "cell_type": "code",
   "execution_count": null,
   "id": "6df6a7b7",
   "metadata": {},
   "outputs": [],
   "source": [
    "# s2_ds_scaled[[\"red\", \"green\", \"blue\"]].isel(time=slice(0, 6)).to_array().plot.imshow(\n",
    "#     col=\"time\", col_wrap=3, size=4, vmin=0, vmax=0.3\n",
    "# )"
   ]
  },
  {
   "cell_type": "code",
   "execution_count": null,
   "id": "831be8b9",
   "metadata": {},
   "outputs": [],
   "source": [
    "# Combine Landsat and Sentinel-2 datasets\n",
    "data = xr.concat([ls_ds_scaled, s2_ds_scaled], dim=\"time\")\n",
    "\n",
    "# Create NDWI\n",
    "data[\"ndwi\"] = (data.nir08 - data.swir16) / (data.nir08 + data.swir16)\n",
    "data"
   ]
  },
  {
   "cell_type": "code",
   "execution_count": null,
   "id": "ef8ec1bc",
   "metadata": {},
   "outputs": [],
   "source": [
    "%%time\n",
    "\n",
    "# Load data into memory. Watch Dask for this, it'll do a bunch of work!\n",
    "data = data.compute()"
   ]
  },
  {
   "cell_type": "markdown",
   "id": "c34949eb-96f1-4844-ad6e-aeb71399e9f5",
   "metadata": {},
   "source": [
    "## Pixel-based tides"
   ]
  },
  {
   "cell_type": "code",
   "execution_count": null,
   "id": "861a8d3c-d98c-477c-9491-b0de24131a02",
   "metadata": {
    "tags": []
   },
   "outputs": [],
   "source": [
    "# Model tides into every pixel in the three-dimensional (x, y, time)\n",
    "# satellite dataset. If `model` is \"ensemble\" this generate optimised\n",
    "# tide modelling by combining the best local tide models.\n",
    "tide_m = pixel_tides(\n",
    "    data=data,\n",
    "    model=tide_model,\n",
    "    directory=tide_model_dir,\n",
    "    ensemble_models=[\n",
    "        \"EOT20\",\n",
    "        \"FES2012\",\n",
    "        \"FES2014_extrapolated\",\n",
    "        \"FES2022_extrapolated\",\n",
    "        \"INATIDES\",\n",
    "        \"GOT4.10\",\n",
    "        \"GOT5.6_extrapolated\",\n",
    "        \"TPXO10-atlas-v2-nc\",\n",
    "        \"TPXO8-atlas-nc\",\n",
    "        \"TPXO9-atlas-v5-nc\",\n",
    "    ],\n",
    "    ensemble_func={\"ensemble-mean-weightedtop3\": lambda x: (4 - x[\"rank\"]).clip(0, 3)},\n",
    ")"
   ]
  },
  {
   "cell_type": "code",
   "execution_count": null,
   "id": "0dcac52f-78d5-41f3-81a4-199509949a96",
   "metadata": {},
   "outputs": [],
   "source": [
    "# Set tide array pixels to nodata if the satellite data array pixels contain\n",
    "# nodata. This ensures that we ignore any tide observations where we don't\n",
    "# have matching satellite imagery\n",
    "data[\"tide_m\"] = tide_m.where(\n",
    "    ~data.to_array().isel(variable=0).isnull().drop(\"variable\")\n",
    ")"
   ]
  },
  {
   "cell_type": "markdown",
   "id": "e9c634b5-4195-4cee-9c34-84792debae03",
   "metadata": {},
   "source": [
    "## Pixel-based DEM creation"
   ]
  },
  {
   "cell_type": "markdown",
   "id": "d197a187-6a74-4588-95ea-678a576a269b",
   "metadata": {
    "tags": []
   },
   "source": [
    "### Flatten array from 3D to 2D and drop pixels with no correlation with tide\n",
    "Flatten array to only pixels with positive correlations between water observations and tide height. This greatly improves processing time by ensuring only a narrow strip of pixels along the coastline are analysed, rather than the entire x * y array:"
   ]
  },
  {
   "cell_type": "code",
   "execution_count": null,
   "id": "3cd6667b-38a2-497b-a994-2fae1254537a",
   "metadata": {
    "tags": []
   },
   "outputs": [],
   "source": [
    "flat_ds, freq, corr, clear = ds_to_flat(\n",
    "    data,\n",
    "    min_freq=min_freq,\n",
    "    max_freq=max_freq,\n",
    "    min_correlation=min_correlation,\n",
    "    # valid_mask=topobathy_mask & coastal_mask,\n",
    ")\n",
    "\n",
    "# Reducing analysed pixels from 10240000 to 1002452 (9.79%)\n",
    "# CPU times: user 3min, sys: 1min 25s, total: 4min 25s\n",
    "# Wall time: 4min 13s"
   ]
  },
  {
   "cell_type": "markdown",
   "id": "9e57e810-d4eb-4875-bf1a-aec1487acbf1",
   "metadata": {
    "tags": []
   },
   "source": [
    "### Pixel-wise rolling median\n",
    "This function performs a rolling median calculation along the tide heights of our satellite images. \n",
    "It breaks our tide range into `windows_n` individual rolling windows, each of which covers `windows_prop_tide` of the full tidal range. \n",
    "For each window, the function returns the median of all tide heights and NDWI index values within the window, and returns an array with a new \"interval\" dimension that summarises these values from low to high tide.\n",
    "\n",
    "More windows (e.g. `windows_n=100`) produces detailed elevation maps that can capture small differences in intertidal morphology - at the expense of slower run times.\n",
    "Fewer windows (e.g. `windows_n=50`) will run faster, but produce less smooth, less detailed elevation maps."
   ]
  },
  {
   "cell_type": "code",
   "execution_count": null,
   "id": "230cb5d2-2d11-4d9a-a29d-d24d2fa44c18",
   "metadata": {
    "tags": []
   },
   "outputs": [],
   "source": [
    "interval_ds = pixel_rolling_median(\n",
    "    flat_ds,\n",
    "    windows_n=100,\n",
    "    window_prop_tide=0.15,\n",
    "    max_workers=None,\n",
    "    min_count=5,\n",
    ")"
   ]
  },
  {
   "cell_type": "markdown",
   "id": "baab484a-b501-4203-88de-c8c959ae701c",
   "metadata": {},
   "source": [
    "### Model intertidal elevation and uncertainty"
   ]
  },
  {
   "cell_type": "markdown",
   "id": "251168d7-3210-4b59-9436-8ae550c777b9",
   "metadata": {},
   "source": [
    "Test our workflow by plotting an example elevation extraction for a single pixel:"
   ]
  },
  {
   "cell_type": "code",
   "execution_count": null,
   "id": "c079977e-cf56-499e-b016-819d3cd5110c",
   "metadata": {
    "tags": []
   },
   "outputs": [],
   "source": [
    "# from intertidal.elevation import pixel_dem_debug\n",
    "\n",
    "# center = data.odc.geobox.center_pixel.coords\n",
    "\n",
    "# x, y = center[\"x\"].values[0], center[\"y\"].values[0]\n",
    "\n",
    "# interval_pixel, interval_smoothed_pixel = pixel_dem_debug(\n",
    "#     x,\n",
    "#     y,\n",
    "#     flat_ds,\n",
    "#     interval_ds,\n",
    "#     interp_intervals=200,\n",
    "#     smooth_radius=20,\n",
    "#     min_periods=5,\n",
    "#     plot_style=\"season\"\n",
    "# )"
   ]
  },
  {
   "cell_type": "markdown",
   "id": "55b8f443-b35c-4380-8883-1e590fe25e9d",
   "metadata": {},
   "source": [
    "Now model our full elevation raster:"
   ]
  },
  {
   "cell_type": "code",
   "execution_count": null,
   "id": "0a8e0556-c698-4628-b0f3-cf35e722a293",
   "metadata": {},
   "outputs": [],
   "source": [
    "# Model elevation\n",
    "flat_dem = pixel_dem(\n",
    "    interval_ds,\n",
    "    ndwi_thresh=ndwi_thresh,\n",
    "    interp_intervals=200,\n",
    "    smooth_radius=20,\n",
    "    min_periods=5,\n",
    ")"
   ]
  },
  {
   "cell_type": "code",
   "execution_count": null,
   "id": "cec14155-eeb5-4a78-a30f-54b329e6e7e2",
   "metadata": {},
   "outputs": [],
   "source": [
    "# Model uncertainty\n",
    "low, high, uncertainty, misclassified = pixel_uncertainty(\n",
    "    flat_ds, flat_dem, ndwi_thresh, method=\"mad\"\n",
    ")\n",
    "\n",
    "# Add arrays to dataset\n",
    "flat_dem[[\"elevation_low\", \"elevation_high\", \"elevation_uncertainty\"]] = (\n",
    "    low,\n",
    "    high,\n",
    "    uncertainty,\n",
    ")"
   ]
  },
  {
   "cell_type": "markdown",
   "id": "a379f9cf-3f24-4a0f-9b37-e4b462dccb5d",
   "metadata": {},
   "source": [
    "## Unstack outputs and export"
   ]
  },
  {
   "cell_type": "code",
   "execution_count": null,
   "id": "1f1d3490-59aa-4001-8ea9-ea46f809c944",
   "metadata": {
    "tags": []
   },
   "outputs": [],
   "source": [
    "# Combine QA layers with elevation layers\n",
    "flat_combined = xr.combine_by_coords(\n",
    "    [\n",
    "        flat_dem,  # DEM data\n",
    "        freq,  # Frequency\n",
    "        corr,  # Correlation\n",
    "        clear,  # Clear count\n",
    "    ],\n",
    ")\n",
    "\n",
    "# Unstack elevation and uncertainty layers back into their original\n",
    "# spatial dimensions\n",
    "ds = flat_to_ds(flat_combined, data)\n",
    "\n",
    "# Clean upper edge of intertidal zone in elevation layers\n",
    "# (likely to be inaccurate edge pixels)\n",
    "elevation_bands = [d for d in ds.data_vars if \"elevation\" in d]\n",
    "ds[elevation_bands] = clean_edge_pixels(ds[elevation_bands])\n"
   ]
  },
  {
   "cell_type": "code",
   "execution_count": null,
   "id": "75b41fb9-6271-4c8a-a1d5-f4800d03f789",
   "metadata": {
    "tags": []
   },
   "outputs": [],
   "source": [
    "fix, axes = plt.subplots(1, 5, figsize=(12, 3))\n",
    "ds.elevation.plot.imshow(cmap=\"viridis\", ax=axes[0])\n",
    "ds.elevation_uncertainty.plot.imshow(cmap=\"inferno\", vmin=0, vmax=0.5, ax=axes[1])\n",
    "ds.qa_ndwi_corr.plot.imshow(cmap=\"RdBu\", vmin=-0.7, vmax=0.7, ax=axes[2])\n",
    "ds.qa_ndwi_freq.plot.imshow(cmap=\"Blues\", vmin=0, vmax=1, ax=axes[3])\n",
    "ds.qa_count_clear.plot.imshow(cmap=\"Greys\", ax=axes[4])"
   ]
  },
  {
   "cell_type": "code",
   "execution_count": null,
   "id": "87202b19-b854-4140-9bb7-ca05d324901c",
   "metadata": {
    "tags": []
   },
   "outputs": [],
   "source": [
    "ds.elevation.odc.explore(tiles=basemaps.Esri.WorldImagery)"
   ]
  },
  {
   "cell_type": "markdown",
   "id": "9b564afc-4a09-4eb3-a9a3-cb445822c7ad",
   "metadata": {
    "tags": []
   },
   "source": [
    "## Close Dask client"
   ]
  },
  {
   "cell_type": "code",
   "execution_count": null,
   "id": "dbad6b6a-081b-4360-9ffe-120c76b43bd2",
   "metadata": {},
   "outputs": [],
   "source": [
    "client.shutdown()"
   ]
  }
 ],
 "metadata": {
  "kernelspec": {
   "display_name": "Python 3 (ipykernel)",
   "language": "python",
   "name": "python3"
  },
  "language_info": {
   "codemirror_mode": {
    "name": "ipython",
    "version": 3
   },
   "file_extension": ".py",
   "mimetype": "text/x-python",
   "name": "python",
   "nbconvert_exporter": "python",
   "pygments_lexer": "ipython3",
   "version": "3.12.0"
  },
  "widgets": {
   "application/vnd.jupyter.widget-state+json": {
    "state": {
     "052e66fc68db4577bab0e0eab5a08fa2": {
      "model_module": "@jupyter-widgets/base",
      "model_module_version": "2.0.0",
      "model_name": "LayoutModel",
      "state": {
       "width": "5em"
      }
     },
     "0c6168b3e44a4826a20dda25eb41abd4": {
      "model_module": "jupyter-leaflet",
      "model_module_version": "^0.17",
      "model_name": "LeafletTileLayerModel",
      "state": {
       "_model_module_version": "^0.17",
       "_view_module_version": "^0.17",
       "attribution": "Tiles &copy; Esri &mdash; Source: Esri, i-cubed, USDA, USGS, AEX, GeoEye, Getmapping, Aerogrid, IGN, IGP, UPR-EGP, and the GIS User Community",
       "min_zoom": 1,
       "name": "Esri.WorldImagery",
       "options": [
        "attribution",
        "bounds",
        "detect_retina",
        "max_native_zoom",
        "max_zoom",
        "min_native_zoom",
        "min_zoom",
        "no_wrap",
        "tile_size",
        "tms",
        "zoom_offset"
       ],
       "url": "https://server.arcgisonline.com/ArcGIS/rest/services/World_Imagery/MapServer/tile/{z}/{y}/{x}"
      }
     },
     "1156b340809344efb273cb5d467f67fa": {
      "model_module": "jupyter-leaflet",
      "model_module_version": "^0.17",
      "model_name": "LeafletWidgetControlModel",
      "state": {
       "_model_module": "jupyter-leaflet",
       "_model_module_version": "^0.17",
       "_view_count": null,
       "_view_module": "jupyter-leaflet",
       "_view_module_version": "^0.17",
       "options": [
        "position",
        "transparent_bg"
       ],
       "position": "topright",
       "widget": "IPY_MODEL_860d23335c8949868e82507dc0878961"
      }
     },
     "221b839a429d443cbb693347cb0e20bb": {
      "model_module": "jupyter-leaflet",
      "model_module_version": "^0.17",
      "model_name": "LeafletMapStyleModel",
      "state": {
       "_model_module_version": "^0.17"
      }
     },
     "332b966dabbd427ca234486ccd9afcb8": {
      "model_module": "@jupyter-widgets/base",
      "model_module_version": "2.0.0",
      "model_name": "LayoutModel",
      "state": {}
     },
     "3de1451f1a24435ba2cc8680a8701002": {
      "model_module": "jupyter-leaflet",
      "model_module_version": "^0.17",
      "model_name": "LeafletFullScreenControlModel",
      "state": {
       "_model_module_version": "^0.17",
       "_view_module_version": "^0.17",
       "options": [
        "position"
       ]
      }
     },
     "3ed73e1ea9ac4c62bbb4d4b45f2bf6ed": {
      "model_module": "jupyter-leaflet",
      "model_module_version": "^0.17",
      "model_name": "LeafletAttributionControlModel",
      "state": {
       "_model_module_version": "^0.17",
       "_view_module_version": "^0.17",
       "options": [
        "position",
        "prefix"
       ],
       "position": "bottomright",
       "prefix": "ipyleaflet"
      }
     },
     "5b7f7ec205744675b7c02af3c79c25e8": {
      "model_module": "@jupyter-widgets/controls",
      "model_module_version": "2.0.0",
      "model_name": "HTMLStyleModel",
      "state": {
       "description_width": "",
       "font_size": null,
       "text_color": null
      }
     },
     "73b2a8febbe4416cbff26fe11bb0c2c0": {
      "model_module": "jupyter-leaflet",
      "model_module_version": "^0.17",
      "model_name": "LeafletMapStyleModel",
      "state": {
       "_model_module_version": "^0.17",
       "cursor": "move"
      }
     },
     "7442c72a3e7147ea8d88bad2b54cb606": {
      "model_module": "@jupyter-widgets/base",
      "model_module_version": "2.0.0",
      "model_name": "LayoutModel",
      "state": {
       "flex": "1 0 20em",
       "height": "3em",
       "width": "20em"
      }
     },
     "80112e857f19414cbfd8b1f76319302f": {
      "model_module": "@jupyter-widgets/controls",
      "model_module_version": "2.0.0",
      "model_name": "HBoxModel",
      "state": {
       "children": [
        "IPY_MODEL_dd8adcbecba04fc085d376dda54b6739",
        "IPY_MODEL_f5e041c467774fc494c2f380871e3df3",
        "IPY_MODEL_c811043b37404629907b794a6721608b"
       ],
       "layout": "IPY_MODEL_cafe08eba9b94b16ad602cec6c5b88ef"
      }
     },
     "860d23335c8949868e82507dc0878961": {
      "model_module": "@jupyter-widgets/controls",
      "model_module_version": "2.0.0",
      "model_name": "ButtonModel",
      "state": {
       "description": "done",
       "disabled": true,
       "layout": "IPY_MODEL_052e66fc68db4577bab0e0eab5a08fa2",
       "style": "IPY_MODEL_ddeeffee65054f05afc6039f3078c55e",
       "tooltip": null
      }
     },
     "8bdc4c25fb434da7b831e68c33e350e3": {
      "model_module": "@jupyter-widgets/controls",
      "model_module_version": "2.0.0",
      "model_name": "HTMLStyleModel",
      "state": {
       "description_width": "",
       "font_size": null,
       "text_color": null
      }
     },
     "90f4f021e4df4ef29ba21fd10a8b497a": {
      "model_module": "@jupyter-widgets/controls",
      "model_module_version": "2.0.0",
      "model_name": "ProgressStyleModel",
      "state": {
       "description_width": ""
      }
     },
     "956f4a3ac40242cc8f1aef2ff916c6ae": {
      "model_module": "jupyter-leaflet",
      "model_module_version": "^0.17",
      "model_name": "LeafletZoomControlModel",
      "state": {
       "_model_module_version": "^0.17",
       "_view_module_version": "^0.17",
       "options": [
        "position",
        "zoom_in_text",
        "zoom_in_title",
        "zoom_out_text",
        "zoom_out_title"
       ]
      }
     },
     "abb7e06699b64c44883c18ec48d1f52c": {
      "model_module": "jupyter-leaflet",
      "model_module_version": "^0.17",
      "model_name": "LeafletMapStyleModel",
      "state": {
       "_model_module_version": "^0.17"
      }
     },
     "b4214ad81a4049f4aed147a940c16e72": {
      "model_module": "@jupyter-widgets/base",
      "model_module_version": "2.0.0",
      "model_name": "LayoutModel",
      "state": {}
     },
     "b477eac592804e8db82a0e255d0c9d1e": {
      "model_module": "jupyter-leaflet",
      "model_module_version": "^0.17",
      "model_name": "LeafletDrawControlModel",
      "state": {
       "_model_module_version": "^0.17",
       "_view_module_version": "^0.17",
       "data": [
        {
         "geometry": {
          "coordinates": [
           [
            [
             150.786636,
             -34.321216
            ],
            [
             150.786636,
             -34.254272
            ],
            [
             151.175283,
             -34.254272
            ],
            [
             151.175283,
             -34.321216
            ],
            [
             150.786636,
             -34.321216
            ]
           ]
          ],
          "type": "Polygon"
         },
         "properties": {
          "style": {
           "clickable": true,
           "color": "#000000",
           "fill": true,
           "fillColor": "#fca45d",
           "fillOpacity": 0.1,
           "opacity": 0.5,
           "stroke": true,
           "weight": 4
          }
         },
         "type": "Feature"
        }
       ],
       "options": [
        "position"
       ],
       "polygon": {
        "shapeOptions": {
         "color": "#000000",
         "editing": {
          "color": "#000000",
          "fillColor": "#fca45d",
          "fillOpacity": 0.1
         },
         "fillColor": "#fca45d",
         "fillOpacity": 0.1,
         "original": {
          "color": "#000000",
          "fillColor": "#fca45d",
          "fillOpacity": 0.1
         }
        }
       },
       "polyline": {},
       "rectangle": {
        "metric": [
         "km",
         "m"
        ],
        "shapeOptions": {
         "color": "#000000",
         "fillColor": "#fca45d",
         "fillOpacity": 0.1
        }
       }
      }
     },
     "bb6ff04db385480ab59fc5dc9347f9fc": {
      "model_module": "@jupyter-widgets/base",
      "model_module_version": "2.0.0",
      "model_name": "LayoutModel",
      "state": {}
     },
     "c811043b37404629907b794a6721608b": {
      "model_module": "@jupyter-widgets/controls",
      "model_module_version": "2.0.0",
      "model_name": "HTMLModel",
      "state": {
       "layout": "IPY_MODEL_bb6ff04db385480ab59fc5dc9347f9fc",
       "style": "IPY_MODEL_cfa3b6ab577b4acab858fbdd08b32a25",
       "value": " 105/105 [00:01&lt;00:00, 116.59it/s]"
      }
     },
     "cafe08eba9b94b16ad602cec6c5b88ef": {
      "model_module": "@jupyter-widgets/base",
      "model_module_version": "2.0.0",
      "model_name": "LayoutModel",
      "state": {}
     },
     "cd18c8e1cee0497a8153c9c91ac6b537": {
      "model_module": "jupyter-leaflet",
      "model_module_version": "^0.17",
      "model_name": "LeafletWidgetControlModel",
      "state": {
       "_model_module": "jupyter-leaflet",
       "_model_module_version": "^0.17",
       "_view_count": null,
       "_view_module": "jupyter-leaflet",
       "_view_module_version": "^0.17",
       "options": [
        "position",
        "transparent_bg"
       ],
       "position": "bottomleft",
       "widget": "IPY_MODEL_e3fccb4ac28941b78d99ef83262dc8f4"
      }
     },
     "cd23d25494fa409aa62344c60bb9d7aa": {
      "model_module": "@jupyter-widgets/base",
      "model_module_version": "2.0.0",
      "model_name": "LayoutModel",
      "state": {
       "height": "600px"
      }
     },
     "cfa3b6ab577b4acab858fbdd08b32a25": {
      "model_module": "@jupyter-widgets/controls",
      "model_module_version": "2.0.0",
      "model_name": "HTMLStyleModel",
      "state": {
       "description_width": "",
       "font_size": null,
       "text_color": null
      }
     },
     "d7781c2846034bc29733dc79e5f5bb6b": {
      "model_module": "jupyter-leaflet",
      "model_module_version": "^0.17",
      "model_name": "LeafletMapModel",
      "state": {
       "_model_module_version": "^0.17",
       "_view_module_version": "^0.17",
       "bottom": 158010,
       "center": [
        -34.323023630488315,
        151.00845809753469
       ],
       "controls": [
        "IPY_MODEL_956f4a3ac40242cc8f1aef2ff916c6ae",
        "IPY_MODEL_3ed73e1ea9ac4c62bbb4d4b45f2bf6ed",
        "IPY_MODEL_3de1451f1a24435ba2cc8680a8701002"
       ],
       "default_style": "IPY_MODEL_abb7e06699b64c44883c18ec48d1f52c",
       "dragging_style": "IPY_MODEL_73b2a8febbe4416cbff26fe11bb0c2c0",
       "east": 151.51932235534719,
       "fullscreen": false,
       "interpolation": "bilinear",
       "layers": [
        "IPY_MODEL_0c6168b3e44a4826a20dda25eb41abd4"
       ],
       "layout": "IPY_MODEL_cd23d25494fa409aa62344c60bb9d7aa",
       "left": 240661.00344311146,
       "modisdate": "2024-03-24",
       "north": -33.98208625901937,
       "options": [
        "bounce_at_zoom_limits",
        "box_zoom",
        "center",
        "close_popup_on_click",
        "double_click_zoom",
        "dragging",
        "fullscreen",
        "inertia",
        "inertia_deceleration",
        "inertia_max_speed",
        "interpolation",
        "keyboard",
        "keyboard_pan_offset",
        "keyboard_zoom_offset",
        "max_zoom",
        "min_zoom",
        "prefer_canvas",
        "scroll_wheel_zoom",
        "tap",
        "tap_tolerance",
        "touch_zoom",
        "world_copy_jump",
        "zoom",
        "zoom_animation_threshold",
        "zoom_delta",
        "zoom_snap"
       ],
       "prefer_canvas": false,
       "right": 241405.00344311146,
       "scroll_wheel_zoom": true,
       "south": -34.66258150231495,
       "style": "IPY_MODEL_abb7e06699b64c44883c18ec48d1f52c",
       "top": 157410,
       "west": 150.49759383972219,
       "window_url": "https://app.sandbox.dea.ga.gov.au/user/robbi.bishoptaylor@ga.gov.au/lab/tree/Robbi/dea-intertidal/notebooks/Intertidal_elevation.ipynb",
       "zoom": 10
      }
     },
     "dd8adcbecba04fc085d376dda54b6739": {
      "model_module": "@jupyter-widgets/controls",
      "model_module_version": "2.0.0",
      "model_name": "HTMLModel",
      "state": {
       "layout": "IPY_MODEL_b4214ad81a4049f4aed147a940c16e72",
       "style": "IPY_MODEL_8bdc4c25fb434da7b831e68c33e350e3",
       "value": "100%"
      }
     },
     "ddeeffee65054f05afc6039f3078c55e": {
      "model_module": "@jupyter-widgets/controls",
      "model_module_version": "2.0.0",
      "model_name": "ButtonStyleModel",
      "state": {
       "button_color": "green",
       "font_family": null,
       "font_size": null,
       "font_style": null,
       "font_variant": null,
       "font_weight": null,
       "text_color": null,
       "text_decoration": null
      }
     },
     "e3fccb4ac28941b78d99ef83262dc8f4": {
      "model_module": "@jupyter-widgets/controls",
      "model_module_version": "2.0.0",
      "model_name": "HTMLModel",
      "state": {
       "layout": "IPY_MODEL_7442c72a3e7147ea8d88bad2b54cb606",
       "style": "IPY_MODEL_5b7f7ec205744675b7c02af3c79c25e8",
       "value": "<pre style=\"color:grey\">lat: [-34.6626, -33.9821]\nlon: [150.4976, 151.5193]</pre>"
      }
     },
     "f5e041c467774fc494c2f380871e3df3": {
      "model_module": "@jupyter-widgets/controls",
      "model_module_version": "2.0.0",
      "model_name": "FloatProgressModel",
      "state": {
       "bar_style": "success",
       "layout": "IPY_MODEL_332b966dabbd427ca234486ccd9afcb8",
       "max": 105,
       "style": "IPY_MODEL_90f4f021e4df4ef29ba21fd10a8b497a",
       "value": 105
      }
     }
    },
    "version_major": 2,
    "version_minor": 0
   }
  }
 },
 "nbformat": 4,
 "nbformat_minor": 5
}
